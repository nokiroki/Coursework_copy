{
 "cells": [
  {
   "attachments": {},
   "cell_type": "markdown",
   "metadata": {},
   "source": [
    "# Линейные модели"
   ]
  },
  {
   "attachments": {},
   "cell_type": "markdown",
   "metadata": {},
   "source": [
    "## Импорты"
   ]
  },
  {
   "cell_type": "code",
   "execution_count": 105,
   "metadata": {},
   "outputs": [],
   "source": [
    "import os\n",
    "\n",
    "import pandas as pd\n",
    "import numpy as np\n",
    "\n",
    "from sklearn.model_selection import train_test_split\n",
    "from sklearn.metrics import f1_score, roc_auc_score\n",
    "from sklearn.linear_model import LogisticRegression\n",
    "from sklearn.ensemble import IsolationForest"
   ]
  },
  {
   "cell_type": "code",
   "execution_count": 14,
   "metadata": {},
   "outputs": [],
   "source": [
    "df = pd.read_csv(os.path.join('..', 'data', 'creditcard.csv'))"
   ]
  },
  {
   "attachments": {},
   "cell_type": "markdown",
   "metadata": {},
   "source": [
    "## Предобработка"
   ]
  },
  {
   "cell_type": "code",
   "execution_count": 15,
   "metadata": {},
   "outputs": [],
   "source": [
    "df['Amount_log'] = np.log(df['Amount'] + 1e-9)\n",
    "df.drop(columns=['Amount', 'Time'], axis=1, inplace=True)\n",
    "data, target = df.drop(columns=['Class'], axis=1), df['Class']\n",
    "data_train, data_test, target_train, target_test = train_test_split(data, target, test_size=.2, stratify=target)"
   ]
  },
  {
   "attachments": {},
   "cell_type": "markdown",
   "metadata": {},
   "source": [
    "## Бейзлайн"
   ]
  },
  {
   "attachments": {},
   "cell_type": "markdown",
   "metadata": {},
   "source": [
    "Будем предсказывать случайно. Во время EDA мы обнаружили, что только 0.1 процент данных - аномальные. заполним массив нулями и случайно инициализируем $5\\%$ аномальных данных - это и будет наш бейзлайн"
   ]
  },
  {
   "cell_type": "code",
   "execution_count": 29,
   "metadata": {},
   "outputs": [],
   "source": [
    "train_pred = np.zeros_like(target_train)\n",
    "test_pred = np.zeros_like(target_test)\n",
    "\n",
    "train_pred[:int(train_pred.shape[0] * .05)] = 1\n",
    "test_pred[:int(test_pred.shape[0] * .05)] = 1\n",
    "\n",
    "np.random.shuffle(train_pred)\n",
    "np.random.shuffle(test_pred)"
   ]
  },
  {
   "cell_type": "code",
   "execution_count": 30,
   "metadata": {},
   "outputs": [
    {
     "name": "stdout",
     "output_type": "stream",
     "text": [
      "f1 score train - 0.004072628542338367\n",
      "f1 score test - 0.0006788866259334691\n"
     ]
    }
   ],
   "source": [
    "print(f'f1 score train - {f1_score(target_train, train_pred)}')\n",
    "print(f'f1 score test - {f1_score(target_test, test_pred)}')"
   ]
  },
  {
   "attachments": {},
   "cell_type": "markdown",
   "metadata": {},
   "source": [
    "## Логистическая регрессия"
   ]
  },
  {
   "cell_type": "code",
   "execution_count": 111,
   "metadata": {},
   "outputs": [],
   "source": [
    "lg = LogisticRegression(C=.7)\n",
    "lg.fit(data_train, target_train)\n",
    "\n",
    "train_pred = lg.predict(data_train)\n",
    "test_pred = lg.predict(data_test)\n",
    "\n",
    "train_pred_proba = lg.predict_proba(data_train)[:, 1]\n",
    "test_pred_proba = lg.predict_proba(data_test)[:, 1]"
   ]
  },
  {
   "cell_type": "code",
   "execution_count": 112,
   "metadata": {},
   "outputs": [
    {
     "name": "stdout",
     "output_type": "stream",
     "text": [
      "f1 score train - 0.7377777777777778\n",
      "f1 score test - 0.7176470588235294\n"
     ]
    }
   ],
   "source": [
    "print(f'f1 score train - {f1_score(target_train, train_pred)}')\n",
    "print(f'f1 score test - {f1_score(target_test, test_pred)}')"
   ]
  },
  {
   "cell_type": "code",
   "execution_count": 113,
   "metadata": {},
   "outputs": [
    {
     "name": "stdout",
     "output_type": "stream",
     "text": [
      "rocauc score train - 0.9770306861653049\n",
      "rocauc score test - 0.9779734030640956\n"
     ]
    }
   ],
   "source": [
    "print(f'rocauc score train - {roc_auc_score(target_train, train_pred_proba)}')\n",
    "print(f'rocauc score test - {roc_auc_score(target_test, test_pred_proba)}')"
   ]
  },
  {
   "attachments": {},
   "cell_type": "markdown",
   "metadata": {},
   "source": [
    "## Isolation Forest"
   ]
  },
  {
   "cell_type": "code",
   "execution_count": 101,
   "metadata": {},
   "outputs": [
    {
     "name": "stderr",
     "output_type": "stream",
     "text": [
      "c:\\Users\\n.Belousov\\Anaconda3\\envs\\ml\\lib\\site-packages\\sklearn\\base.py:439: UserWarning: X does not have valid feature names, but IsolationForest was fitted with feature names\n",
      "  warnings.warn(\n"
     ]
    }
   ],
   "source": [
    "isol_for = IsolationForest(contamination=.01)\n",
    "\n",
    "isol_for.fit(data_train);"
   ]
  },
  {
   "cell_type": "code",
   "execution_count": 102,
   "metadata": {},
   "outputs": [],
   "source": [
    "train_pred = isol_for.predict(data_train)\n",
    "test_pred = isol_for.predict(data_test)"
   ]
  },
  {
   "cell_type": "code",
   "execution_count": 103,
   "metadata": {},
   "outputs": [],
   "source": [
    "train_pred = np.clip(train_pred, 0, 1)\n",
    "train_pred = np.where((train_pred == 0) | (train_pred == 1), train_pred^1, train_pred)\n",
    "\n",
    "test_pred = np.clip(test_pred, 0, 1)\n",
    "test_pred = np.where((test_pred == 0) | (test_pred == 1), test_pred^1, test_pred)"
   ]
  },
  {
   "cell_type": "code",
   "execution_count": 104,
   "metadata": {},
   "outputs": [
    {
     "name": "stdout",
     "output_type": "stream",
     "text": [
      "f1 score train - 0.18930041152263372\n",
      "f1 score test - 0.19402985074626866\n"
     ]
    }
   ],
   "source": [
    "print(f'f1 score train - {f1_score(target_train, train_pred)}')\n",
    "print(f'f1 score test - {f1_score(target_test, test_pred)}')"
   ]
  },
  {
   "cell_type": "code",
   "execution_count": null,
   "metadata": {},
   "outputs": [],
   "source": []
  }
 ],
 "metadata": {
  "kernelspec": {
   "display_name": "ml",
   "language": "python",
   "name": "python3"
  },
  "language_info": {
   "codemirror_mode": {
    "name": "ipython",
    "version": 3
   },
   "file_extension": ".py",
   "mimetype": "text/x-python",
   "name": "python",
   "nbconvert_exporter": "python",
   "pygments_lexer": "ipython3",
   "version": "3.10.9"
  },
  "orig_nbformat": 4
 },
 "nbformat": 4,
 "nbformat_minor": 2
}
