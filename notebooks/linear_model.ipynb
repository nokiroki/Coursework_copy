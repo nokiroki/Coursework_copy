{
 "cells": [
  {
   "attachments": {},
   "cell_type": "markdown",
   "metadata": {},
   "source": [
    "# Линейные модели"
   ]
  },
  {
   "attachments": {},
   "cell_type": "markdown",
   "metadata": {},
   "source": [
    "## Импорты"
   ]
  },
  {
   "cell_type": "code",
   "execution_count": 60,
   "metadata": {},
   "outputs": [],
   "source": [
    "import os\n",
    "\n",
    "import pandas as pd\n",
    "import numpy as np\n",
    "\n",
    "from sklearn.model_selection import train_test_split\n",
    "from sklearn.metrics import f1_score, roc_auc_score\n",
    "from sklearn.linear_model import LogisticRegression\n",
    "from sklearn.covariance import EllipticEnvelope\n",
    "from sklearn.ensemble import IsolationForest, RandomForestClassifier\n",
    "from sklearn.cluster import DBSCAN\n",
    "from sklearn.svm import OneClassSVM\n",
    "from sklearn.model_selection import GridSearchCV, StratifiedKFold, RandomizedSearchCV\n",
    "\n",
    "from xgboost import XGBClassifier\n",
    "\n",
    "from imblearn.over_sampling import SMOTE, ADASYN"
   ]
  },
  {
   "cell_type": "code",
   "execution_count": null,
   "metadata": {},
   "outputs": [],
   "source": [
    "import warnings\n",
    "warnings.filterwarnings(\"ignore\")"
   ]
  },
  {
   "cell_type": "code",
   "execution_count": 61,
   "metadata": {},
   "outputs": [],
   "source": [
    "random_state = 42"
   ]
  },
  {
   "cell_type": "code",
   "execution_count": 3,
   "metadata": {},
   "outputs": [],
   "source": [
    "df = pd.read_csv(os.path.join('..', 'data', 'creditcard.csv'))"
   ]
  },
  {
   "cell_type": "code",
   "execution_count": 4,
   "metadata": {},
   "outputs": [],
   "source": [
    "def print_metrics(clf, data_train, target_train, data_test, target_test):\n",
    "    train_pred = clf.predict(data_train)\n",
    "    test_pred = clf.predict(data_test)\n",
    "\n",
    "    train_pred_proba = clf.predict_proba(data_train)[:, 1]\n",
    "    test_pred_proba = clf.predict_proba(data_test)[:, 1]\n",
    "    \n",
    "\n",
    "    print(f'f1 score train - {f1_score(target_train, train_pred)}')\n",
    "    print(f'f1 score test - {f1_score(target_test, test_pred)}')\n",
    "\n",
    "    print(f'rocauc score train - {roc_auc_score(target_train, train_pred_proba)}')\n",
    "    print(f'rocauc score test - {roc_auc_score(target_test, test_pred_proba)}')"
   ]
  },
  {
   "attachments": {},
   "cell_type": "markdown",
   "metadata": {},
   "source": [
    "## Предобработка"
   ]
  },
  {
   "cell_type": "code",
   "execution_count": 5,
   "metadata": {},
   "outputs": [],
   "source": [
    "df['Amount_log'] = np.log(df['Amount'] + 1e-9)\n",
    "df.drop(columns=['Amount', 'Time'], axis=1, inplace=True)\n",
    "data, target = df.drop(columns=['Class'], axis=1), df['Class']\n",
    "data_train, data_test, target_train, target_test = train_test_split(\n",
    "    data,\n",
    "    target,\n",
    "    test_size=.2,\n",
    "    stratify=target,\n",
    "    random_state=random_stat\n",
    ")"
   ]
  },
  {
   "attachments": {},
   "cell_type": "markdown",
   "metadata": {},
   "source": [
    "StratifiedKFold для грид сёрча"
   ]
  },
  {
   "cell_type": "code",
   "execution_count": null,
   "metadata": {},
   "outputs": [],
   "source": [
    "skf = StratifiedKFold(5, shuffle=True, random_state=random_state)"
   ]
  },
  {
   "attachments": {},
   "cell_type": "markdown",
   "metadata": {},
   "source": [
    "## Бейзлайн"
   ]
  },
  {
   "attachments": {},
   "cell_type": "markdown",
   "metadata": {},
   "source": [
    "Будем предсказывать случайно. Во время EDA мы обнаружили, что только 0.1 процент данных - аномальные. заполним массив нулями и случайно инициализируем $5\\%$ аномальных данных - это и будет наш бейзлайн"
   ]
  },
  {
   "cell_type": "code",
   "execution_count": 4,
   "metadata": {},
   "outputs": [],
   "source": [
    "train_pred = np.zeros_like(target_train)\n",
    "test_pred = np.zeros_like(target_test)\n",
    "\n",
    "train_pred[:int(train_pred.shape[0] * .05)] = 1\n",
    "test_pred[:int(test_pred.shape[0] * .05)] = 1\n",
    "\n",
    "np.random.shuffle(train_pred, random_state=random_state)\n",
    "np.random.shuffle(test_pred, random_state=random_state)"
   ]
  },
  {
   "cell_type": "code",
   "execution_count": 5,
   "metadata": {},
   "outputs": [
    {
     "name": "stdout",
     "output_type": "stream",
     "text": [
      "f1 score train - 0.0027150856948922448\n",
      "f1 score test - 0.006109979633401223\n"
     ]
    }
   ],
   "source": [
    "print(f'f1 score train - {f1_score(target_train, train_pred)}')\n",
    "print(f'f1 score test - {f1_score(target_test, test_pred)}')"
   ]
  },
  {
   "attachments": {},
   "cell_type": "markdown",
   "metadata": {},
   "source": [
    "Результат получился крайне плохим"
   ]
  },
  {
   "attachments": {},
   "cell_type": "markdown",
   "metadata": {},
   "source": [
    "## Логистическая регрессия"
   ]
  },
  {
   "cell_type": "code",
   "execution_count": 26,
   "metadata": {},
   "outputs": [
    {
     "name": "stdout",
     "output_type": "stream",
     "text": [
      "f1 score train - 0.7194029850746269\n",
      "f1 score test - 0.7349397590361446\n",
      "rocauc score train - 0.9757468708550089\n",
      "rocauc score test - 0.9823495802372721\n"
     ]
    }
   ],
   "source": [
    "lg_base = LogisticRegression(random_state=random_state)\n",
    "lg_base.fit(data_train, target_train)\n",
    "\n",
    "print_metrics(lg_base, data_train, target_train, data_test, target_test)"
   ]
  },
  {
   "cell_type": "code",
   "execution_count": 27,
   "metadata": {},
   "outputs": [
    {
     "name": "stdout",
     "output_type": "stream",
     "text": [
      "Fitting 5 folds for each of 30 candidates, totalling 150 fits\n"
     ]
    }
   ],
   "source": [
    "lg = LogisticRegression(random_state=random_state)\n",
    "\n",
    "params = {\n",
    "    'C': np.linspace(0.1, 1, 15),\n",
    "    'warm_start': (True, False)\n",
    "}\n",
    "\n",
    "skf.get_n_splits(data_train, target_train)\n",
    "\n",
    "gs = GridSearchCV(lg, params, scoring='f1', cv=skf, n_jobs=-1, verbose=5)\n",
    "\n",
    "gs.fit(data_train, target_train);"
   ]
  },
  {
   "cell_type": "code",
   "execution_count": 28,
   "metadata": {},
   "outputs": [
    {
     "data": {
      "text/plain": [
       "({'C': 0.7428571428571429, 'warm_start': True}, 0.7190732025476552)"
      ]
     },
     "execution_count": 28,
     "metadata": {},
     "output_type": "execute_result"
    }
   ],
   "source": [
    "gs.best_params_, gs.best_score_"
   ]
  },
  {
   "cell_type": "code",
   "execution_count": 29,
   "metadata": {},
   "outputs": [
    {
     "name": "stdout",
     "output_type": "stream",
     "text": [
      "f1 score train - 0.7194029850746269\n",
      "f1 score test - 0.7349397590361446\n",
      "rocauc score train - 0.9758331280679475\n",
      "rocauc score test - 0.9823998254338313\n"
     ]
    }
   ],
   "source": [
    "lg = LogisticRegression(**gs.best_params_, random_state=random_state)\n",
    "lg.fit(data_train, target_train)\n",
    "\n",
    "print_metrics(lg, data_train, target_train, data_test, target_test)"
   ]
  },
  {
   "attachments": {},
   "cell_type": "markdown",
   "metadata": {},
   "source": [
    "Можно наблюдать, что обыкновенная линейная регрессия дала отличный результат для определения аномальных данных. Посмотрим, сможем ли мы ещё улучшить метрику"
   ]
  },
  {
   "attachments": {},
   "cell_type": "markdown",
   "metadata": {},
   "source": [
    "## Over-sampling"
   ]
  },
  {
   "cell_type": "code",
   "execution_count": 33,
   "metadata": {},
   "outputs": [
    {
     "name": "stdout",
     "output_type": "stream",
     "text": [
      "f1 score train - 0.9434484445491277\n",
      "f1 score test - 0.10650887573964497\n",
      "rocauc score train - 0.98874841980504\n",
      "rocauc score test - 0.9857170850895226\n"
     ]
    }
   ],
   "source": [
    "data_train_resampled, target_train_resampled = SMOTE(\n",
    "    random_state=random_state\n",
    ").fit_resample(data_train, target_train)\n",
    "\n",
    "lg = LogisticRegression(**gs.best_params_, random_state=random_state)\n",
    "lg.fit(data_train_resampled, target_train_resampled)\n",
    "\n",
    "print_metrics(lg, data_train_resampled, target_train_resampled, data_test, target_test)"
   ]
  },
  {
   "cell_type": "code",
   "execution_count": 34,
   "metadata": {},
   "outputs": [
    {
     "name": "stdout",
     "output_type": "stream",
     "text": [
      "f1 score train - 0.884847638189143\n",
      "f1 score test - 0.035583059369561014\n",
      "rocauc score train - 0.9617903690970029\n",
      "rocauc score test - 0.9771648142937535\n"
     ]
    }
   ],
   "source": [
    "data_train_resampled, target_train_resampled = ADASYN(\n",
    "    random_state=random_state\n",
    ").fit_resample(data_train, target_train)\n",
    "\n",
    "lg = LogisticRegression(**gs.best_params_, random_state=random_state)\n",
    "lg.fit(data_train_resampled, target_train_resampled)\n",
    "\n",
    "print_metrics(lg, data_train_resampled, target_train_resampled, data_test, target_test)"
   ]
  },
  {
   "attachments": {},
   "cell_type": "markdown",
   "metadata": {},
   "source": [
    "Как и следовало ожидать, техника over-sampling'a не помогла - аномальных данных слишком мало и алгоритм переобучается на самплированных таргетах. Нет смысла пробовать under-sampling по тем же соображениям - данных будет слишком мало"
   ]
  },
  {
   "attachments": {},
   "cell_type": "markdown",
   "metadata": {},
   "source": [
    "## Elliptic Envelope"
   ]
  },
  {
   "attachments": {},
   "cell_type": "markdown",
   "metadata": {},
   "source": [
    "Один из классических методов определения аномалий. Предполагаем, что распределение обычных данных нам известно и пытаемся выделить аномалии"
   ]
  },
  {
   "cell_type": "code",
   "execution_count": 25,
   "metadata": {},
   "outputs": [
    {
     "name": "stderr",
     "output_type": "stream",
     "text": [
      "c:\\Users\\n.Belousov\\Anaconda3\\envs\\ml\\lib\\site-packages\\sklearn\\covariance\\_robust_covariance.py:184: RuntimeWarning: Determinant has increased; this should not happen: log(det) > log(previous_det) (-114.843161053950425 > -114.955285344860826). You may want to try with a higher value of support_fraction (current value: 0.700).\n",
      "  warnings.warn(\n",
      "c:\\Users\\n.Belousov\\Anaconda3\\envs\\ml\\lib\\site-packages\\sklearn\\covariance\\_robust_covariance.py:184: RuntimeWarning: Determinant has increased; this should not happen: log(det) > log(previous_det) (-114.569054409697088 > -115.263972492662560). You may want to try with a higher value of support_fraction (current value: 0.700).\n",
      "  warnings.warn(\n",
      "c:\\Users\\n.Belousov\\Anaconda3\\envs\\ml\\lib\\site-packages\\sklearn\\covariance\\_robust_covariance.py:184: RuntimeWarning: Determinant has increased; this should not happen: log(det) > log(previous_det) (-115.201267977117098 > -117.076623079543396). You may want to try with a higher value of support_fraction (current value: 0.700).\n",
      "  warnings.warn(\n",
      "c:\\Users\\n.Belousov\\Anaconda3\\envs\\ml\\lib\\site-packages\\sklearn\\covariance\\_robust_covariance.py:184: RuntimeWarning: Determinant has increased; this should not happen: log(det) > log(previous_det) (-115.691571314254375 > -116.736234111734532). You may want to try with a higher value of support_fraction (current value: 0.700).\n",
      "  warnings.warn(\n",
      "c:\\Users\\n.Belousov\\Anaconda3\\envs\\ml\\lib\\site-packages\\sklearn\\covariance\\_robust_covariance.py:184: RuntimeWarning: Determinant has increased; this should not happen: log(det) > log(previous_det) (-113.986206672181481 > -116.625402169304934). You may want to try with a higher value of support_fraction (current value: 0.700).\n",
      "  warnings.warn(\n",
      "c:\\Users\\n.Belousov\\Anaconda3\\envs\\ml\\lib\\site-packages\\sklearn\\covariance\\_robust_covariance.py:184: RuntimeWarning: Determinant has increased; this should not happen: log(det) > log(previous_det) (-115.017379019265334 > -116.475818979115246). You may want to try with a higher value of support_fraction (current value: 0.700).\n",
      "  warnings.warn(\n",
      "c:\\Users\\n.Belousov\\Anaconda3\\envs\\ml\\lib\\site-packages\\sklearn\\covariance\\_robust_covariance.py:184: RuntimeWarning: Determinant has increased; this should not happen: log(det) > log(previous_det) (-113.776312217883557 > -115.666691715896974). You may want to try with a higher value of support_fraction (current value: 0.700).\n",
      "  warnings.warn(\n",
      "c:\\Users\\n.Belousov\\Anaconda3\\envs\\ml\\lib\\site-packages\\sklearn\\covariance\\_robust_covariance.py:184: RuntimeWarning: Determinant has increased; this should not happen: log(det) > log(previous_det) (-113.568549747907113 > -115.980388649504988). You may want to try with a higher value of support_fraction (current value: 0.700).\n",
      "  warnings.warn(\n",
      "c:\\Users\\n.Belousov\\Anaconda3\\envs\\ml\\lib\\site-packages\\sklearn\\covariance\\_robust_covariance.py:184: RuntimeWarning: Determinant has increased; this should not happen: log(det) > log(previous_det) (-113.772675701333014 > -116.626754861320919). You may want to try with a higher value of support_fraction (current value: 0.700).\n",
      "  warnings.warn(\n",
      "c:\\Users\\n.Belousov\\Anaconda3\\envs\\ml\\lib\\site-packages\\sklearn\\covariance\\_robust_covariance.py:184: RuntimeWarning: Determinant has increased; this should not happen: log(det) > log(previous_det) (-110.483135657940920 > -111.682216929912727). You may want to try with a higher value of support_fraction (current value: 0.700).\n",
      "  warnings.warn(\n",
      "c:\\Users\\n.Belousov\\Anaconda3\\envs\\ml\\lib\\site-packages\\sklearn\\covariance\\_robust_covariance.py:184: RuntimeWarning: Determinant has increased; this should not happen: log(det) > log(previous_det) (-113.376020536129033 > -113.542697387270934). You may want to try with a higher value of support_fraction (current value: 0.700).\n",
      "  warnings.warn(\n",
      "c:\\Users\\n.Belousov\\Anaconda3\\envs\\ml\\lib\\site-packages\\sklearn\\covariance\\_robust_covariance.py:184: RuntimeWarning: Determinant has increased; this should not happen: log(det) > log(previous_det) (-113.984008429308915 > -114.691430743019950). You may want to try with a higher value of support_fraction (current value: 0.700).\n",
      "  warnings.warn(\n",
      "c:\\Users\\n.Belousov\\Anaconda3\\envs\\ml\\lib\\site-packages\\sklearn\\covariance\\_robust_covariance.py:184: RuntimeWarning: Determinant has increased; this should not happen: log(det) > log(previous_det) (-113.627898898133338 > -113.933431310546112). You may want to try with a higher value of support_fraction (current value: 0.700).\n",
      "  warnings.warn(\n",
      "c:\\Users\\n.Belousov\\Anaconda3\\envs\\ml\\lib\\site-packages\\sklearn\\covariance\\_robust_covariance.py:184: RuntimeWarning: Determinant has increased; this should not happen: log(det) > log(previous_det) (-115.201113806722489 > -115.738615995465366). You may want to try with a higher value of support_fraction (current value: 0.700).\n",
      "  warnings.warn(\n",
      "c:\\Users\\n.Belousov\\Anaconda3\\envs\\ml\\lib\\site-packages\\sklearn\\covariance\\_robust_covariance.py:184: RuntimeWarning: Determinant has increased; this should not happen: log(det) > log(previous_det) (-114.288034368188846 > -115.695835470262907). You may want to try with a higher value of support_fraction (current value: 0.700).\n",
      "  warnings.warn(\n",
      "c:\\Users\\n.Belousov\\Anaconda3\\envs\\ml\\lib\\site-packages\\sklearn\\covariance\\_robust_covariance.py:184: RuntimeWarning: Determinant has increased; this should not happen: log(det) > log(previous_det) (-113.499868120070843 > -114.395102793161158). You may want to try with a higher value of support_fraction (current value: 0.700).\n",
      "  warnings.warn(\n",
      "c:\\Users\\n.Belousov\\Anaconda3\\envs\\ml\\lib\\site-packages\\sklearn\\covariance\\_robust_covariance.py:184: RuntimeWarning: Determinant has increased; this should not happen: log(det) > log(previous_det) (-113.546677114625865 > -116.468141201029198). You may want to try with a higher value of support_fraction (current value: 0.700).\n",
      "  warnings.warn(\n",
      "c:\\Users\\n.Belousov\\Anaconda3\\envs\\ml\\lib\\site-packages\\sklearn\\covariance\\_robust_covariance.py:184: RuntimeWarning: Determinant has increased; this should not happen: log(det) > log(previous_det) (-114.724108785246102 > -115.957024199583827). You may want to try with a higher value of support_fraction (current value: 0.700).\n",
      "  warnings.warn(\n",
      "c:\\Users\\n.Belousov\\Anaconda3\\envs\\ml\\lib\\site-packages\\sklearn\\covariance\\_robust_covariance.py:184: RuntimeWarning: Determinant has increased; this should not happen: log(det) > log(previous_det) (-113.794813749377838 > -117.490822465417025). You may want to try with a higher value of support_fraction (current value: 0.700).\n",
      "  warnings.warn(\n",
      "c:\\Users\\n.Belousov\\Anaconda3\\envs\\ml\\lib\\site-packages\\sklearn\\covariance\\_robust_covariance.py:184: RuntimeWarning: Determinant has increased; this should not happen: log(det) > log(previous_det) (-113.797738155563323 > -115.300712850965766). You may want to try with a higher value of support_fraction (current value: 0.700).\n",
      "  warnings.warn(\n",
      "c:\\Users\\n.Belousov\\Anaconda3\\envs\\ml\\lib\\site-packages\\sklearn\\covariance\\_robust_covariance.py:184: RuntimeWarning: Determinant has increased; this should not happen: log(det) > log(previous_det) (-113.213126307635108 > -115.135945487786216). You may want to try with a higher value of support_fraction (current value: 0.700).\n",
      "  warnings.warn(\n",
      "c:\\Users\\n.Belousov\\Anaconda3\\envs\\ml\\lib\\site-packages\\sklearn\\covariance\\_robust_covariance.py:184: RuntimeWarning: Determinant has increased; this should not happen: log(det) > log(previous_det) (-114.095398826377831 > -114.676131872524110). You may want to try with a higher value of support_fraction (current value: 0.700).\n",
      "  warnings.warn(\n",
      "c:\\Users\\n.Belousov\\Anaconda3\\envs\\ml\\lib\\site-packages\\sklearn\\covariance\\_robust_covariance.py:184: RuntimeWarning: Determinant has increased; this should not happen: log(det) > log(previous_det) (-114.250917319488778 > -115.661242306319892). You may want to try with a higher value of support_fraction (current value: 0.700).\n",
      "  warnings.warn(\n",
      "c:\\Users\\n.Belousov\\Anaconda3\\envs\\ml\\lib\\site-packages\\sklearn\\covariance\\_robust_covariance.py:184: RuntimeWarning: Determinant has increased; this should not happen: log(det) > log(previous_det) (-113.618217479082531 > -114.618389773871939). You may want to try with a higher value of support_fraction (current value: 0.700).\n",
      "  warnings.warn(\n",
      "c:\\Users\\n.Belousov\\Anaconda3\\envs\\ml\\lib\\site-packages\\sklearn\\covariance\\_robust_covariance.py:184: RuntimeWarning: Determinant has increased; this should not happen: log(det) > log(previous_det) (-113.667376662795917 > -113.885901906134080). You may want to try with a higher value of support_fraction (current value: 0.700).\n",
      "  warnings.warn(\n",
      "c:\\Users\\n.Belousov\\Anaconda3\\envs\\ml\\lib\\site-packages\\sklearn\\covariance\\_robust_covariance.py:184: RuntimeWarning: Determinant has increased; this should not happen: log(det) > log(previous_det) (-114.395271931059995 > -115.071017992518449). You may want to try with a higher value of support_fraction (current value: 0.700).\n",
      "  warnings.warn(\n",
      "c:\\Users\\n.Belousov\\Anaconda3\\envs\\ml\\lib\\site-packages\\sklearn\\covariance\\_robust_covariance.py:184: RuntimeWarning: Determinant has increased; this should not happen: log(det) > log(previous_det) (-115.739057014165951 > -116.132590673050956). You may want to try with a higher value of support_fraction (current value: 0.700).\n",
      "  warnings.warn(\n",
      "c:\\Users\\n.Belousov\\Anaconda3\\envs\\ml\\lib\\site-packages\\sklearn\\covariance\\_robust_covariance.py:184: RuntimeWarning: Determinant has increased; this should not happen: log(det) > log(previous_det) (-114.096860512199868 > -115.076510319043578). You may want to try with a higher value of support_fraction (current value: 0.700).\n",
      "  warnings.warn(\n",
      "c:\\Users\\n.Belousov\\Anaconda3\\envs\\ml\\lib\\site-packages\\sklearn\\covariance\\_robust_covariance.py:184: RuntimeWarning: Determinant has increased; this should not happen: log(det) > log(previous_det) (-114.466042955437544 > -114.817241979302452). You may want to try with a higher value of support_fraction (current value: 0.700).\n",
      "  warnings.warn(\n",
      "c:\\Users\\n.Belousov\\Anaconda3\\envs\\ml\\lib\\site-packages\\sklearn\\covariance\\_robust_covariance.py:184: RuntimeWarning: Determinant has increased; this should not happen: log(det) > log(previous_det) (-113.517681374296075 > -113.683468633462411). You may want to try with a higher value of support_fraction (current value: 0.700).\n",
      "  warnings.warn(\n",
      "c:\\Users\\n.Belousov\\Anaconda3\\envs\\ml\\lib\\site-packages\\sklearn\\covariance\\_robust_covariance.py:184: RuntimeWarning: Determinant has increased; this should not happen: log(det) > log(previous_det) (-115.941100187661732 > -118.891264313069428). You may want to try with a higher value of support_fraction (current value: 0.700).\n",
      "  warnings.warn(\n",
      "c:\\Users\\n.Belousov\\Anaconda3\\envs\\ml\\lib\\site-packages\\sklearn\\covariance\\_robust_covariance.py:184: RuntimeWarning: Determinant has increased; this should not happen: log(det) > log(previous_det) (-111.474725045648626 > -112.518494357401849). You may want to try with a higher value of support_fraction (current value: 0.700).\n",
      "  warnings.warn(\n",
      "c:\\Users\\n.Belousov\\Anaconda3\\envs\\ml\\lib\\site-packages\\sklearn\\covariance\\_robust_covariance.py:184: RuntimeWarning: Determinant has increased; this should not happen: log(det) > log(previous_det) (-113.944834962334440 > -117.573817241996309). You may want to try with a higher value of support_fraction (current value: 0.700).\n",
      "  warnings.warn(\n",
      "c:\\Users\\n.Belousov\\Anaconda3\\envs\\ml\\lib\\site-packages\\sklearn\\covariance\\_robust_covariance.py:184: RuntimeWarning: Determinant has increased; this should not happen: log(det) > log(previous_det) (-115.329799001437735 > -116.811599992887125). You may want to try with a higher value of support_fraction (current value: 0.700).\n",
      "  warnings.warn(\n",
      "c:\\Users\\n.Belousov\\Anaconda3\\envs\\ml\\lib\\site-packages\\sklearn\\covariance\\_robust_covariance.py:184: RuntimeWarning: Determinant has increased; this should not happen: log(det) > log(previous_det) (-113.401815522668386 > -114.115756760236280). You may want to try with a higher value of support_fraction (current value: 0.700).\n",
      "  warnings.warn(\n",
      "c:\\Users\\n.Belousov\\Anaconda3\\envs\\ml\\lib\\site-packages\\sklearn\\covariance\\_robust_covariance.py:184: RuntimeWarning: Determinant has increased; this should not happen: log(det) > log(previous_det) (-113.483286197560957 > -115.453715288854312). You may want to try with a higher value of support_fraction (current value: 0.700).\n",
      "  warnings.warn(\n",
      "c:\\Users\\n.Belousov\\Anaconda3\\envs\\ml\\lib\\site-packages\\sklearn\\covariance\\_robust_covariance.py:184: RuntimeWarning: Determinant has increased; this should not happen: log(det) > log(previous_det) (-111.248892584423288 > -112.526003503195582). You may want to try with a higher value of support_fraction (current value: 0.700).\n",
      "  warnings.warn(\n",
      "c:\\Users\\n.Belousov\\Anaconda3\\envs\\ml\\lib\\site-packages\\sklearn\\covariance\\_robust_covariance.py:184: RuntimeWarning: Determinant has increased; this should not happen: log(det) > log(previous_det) (-113.970151208571963 > -115.161373263364396). You may want to try with a higher value of support_fraction (current value: 0.700).\n",
      "  warnings.warn(\n",
      "c:\\Users\\n.Belousov\\Anaconda3\\envs\\ml\\lib\\site-packages\\sklearn\\covariance\\_robust_covariance.py:184: RuntimeWarning: Determinant has increased; this should not happen: log(det) > log(previous_det) (-113.022534223273709 > -113.357286902035312). You may want to try with a higher value of support_fraction (current value: 0.700).\n",
      "  warnings.warn(\n",
      "c:\\Users\\n.Belousov\\Anaconda3\\envs\\ml\\lib\\site-packages\\sklearn\\covariance\\_robust_covariance.py:184: RuntimeWarning: Determinant has increased; this should not happen: log(det) > log(previous_det) (-116.071070073318253 > -116.675673669561974). You may want to try with a higher value of support_fraction (current value: 0.700).\n",
      "  warnings.warn(\n",
      "c:\\Users\\n.Belousov\\Anaconda3\\envs\\ml\\lib\\site-packages\\sklearn\\covariance\\_robust_covariance.py:184: RuntimeWarning: Determinant has increased; this should not happen: log(det) > log(previous_det) (-113.577313456236283 > -115.059101913505657). You may want to try with a higher value of support_fraction (current value: 0.700).\n",
      "  warnings.warn(\n",
      "c:\\Users\\n.Belousov\\Anaconda3\\envs\\ml\\lib\\site-packages\\sklearn\\covariance\\_robust_covariance.py:184: RuntimeWarning: Determinant has increased; this should not happen: log(det) > log(previous_det) (-114.325375190153608 > -115.787506187621815). You may want to try with a higher value of support_fraction (current value: 0.700).\n",
      "  warnings.warn(\n",
      "c:\\Users\\n.Belousov\\Anaconda3\\envs\\ml\\lib\\site-packages\\sklearn\\covariance\\_robust_covariance.py:184: RuntimeWarning: Determinant has increased; this should not happen: log(det) > log(previous_det) (-114.359722069451749 > -115.737275630232546). You may want to try with a higher value of support_fraction (current value: 0.700).\n",
      "  warnings.warn(\n",
      "c:\\Users\\n.Belousov\\Anaconda3\\envs\\ml\\lib\\site-packages\\sklearn\\covariance\\_robust_covariance.py:184: RuntimeWarning: Determinant has increased; this should not happen: log(det) > log(previous_det) (-115.168639376565849 > -115.830885804604847). You may want to try with a higher value of support_fraction (current value: 0.700).\n",
      "  warnings.warn(\n",
      "c:\\Users\\n.Belousov\\Anaconda3\\envs\\ml\\lib\\site-packages\\sklearn\\covariance\\_robust_covariance.py:184: RuntimeWarning: Determinant has increased; this should not happen: log(det) > log(previous_det) (-112.806418593687340 > -113.755589135263904). You may want to try with a higher value of support_fraction (current value: 0.700).\n",
      "  warnings.warn(\n",
      "c:\\Users\\n.Belousov\\Anaconda3\\envs\\ml\\lib\\site-packages\\sklearn\\covariance\\_robust_covariance.py:184: RuntimeWarning: Determinant has increased; this should not happen: log(det) > log(previous_det) (-112.272862381114024 > -112.394736283618769). You may want to try with a higher value of support_fraction (current value: 0.700).\n",
      "  warnings.warn(\n",
      "c:\\Users\\n.Belousov\\Anaconda3\\envs\\ml\\lib\\site-packages\\sklearn\\covariance\\_robust_covariance.py:184: RuntimeWarning: Determinant has increased; this should not happen: log(det) > log(previous_det) (-114.347911558335852 > -115.806370456584773). You may want to try with a higher value of support_fraction (current value: 0.700).\n",
      "  warnings.warn(\n",
      "c:\\Users\\n.Belousov\\Anaconda3\\envs\\ml\\lib\\site-packages\\sklearn\\covariance\\_robust_covariance.py:184: RuntimeWarning: Determinant has increased; this should not happen: log(det) > log(previous_det) (-113.577600983303697 > -113.681400084022670). You may want to try with a higher value of support_fraction (current value: 0.700).\n",
      "  warnings.warn(\n",
      "c:\\Users\\n.Belousov\\Anaconda3\\envs\\ml\\lib\\site-packages\\sklearn\\covariance\\_robust_covariance.py:184: RuntimeWarning: Determinant has increased; this should not happen: log(det) > log(previous_det) (-114.277746693509741 > -114.398684365126144). You may want to try with a higher value of support_fraction (current value: 0.700).\n",
      "  warnings.warn(\n",
      "c:\\Users\\n.Belousov\\Anaconda3\\envs\\ml\\lib\\site-packages\\sklearn\\covariance\\_robust_covariance.py:184: RuntimeWarning: Determinant has increased; this should not happen: log(det) > log(previous_det) (-113.405457811034921 > -114.013987270278420). You may want to try with a higher value of support_fraction (current value: 0.700).\n",
      "  warnings.warn(\n",
      "c:\\Users\\n.Belousov\\Anaconda3\\envs\\ml\\lib\\site-packages\\sklearn\\covariance\\_robust_covariance.py:184: RuntimeWarning: Determinant has increased; this should not happen: log(det) > log(previous_det) (-114.114394287667466 > -118.716236945764649). You may want to try with a higher value of support_fraction (current value: 0.700).\n",
      "  warnings.warn(\n",
      "c:\\Users\\n.Belousov\\Anaconda3\\envs\\ml\\lib\\site-packages\\sklearn\\covariance\\_robust_covariance.py:184: RuntimeWarning: Determinant has increased; this should not happen: log(det) > log(previous_det) (-111.661658583498848 > -113.021928827520924). You may want to try with a higher value of support_fraction (current value: 0.700).\n",
      "  warnings.warn(\n",
      "c:\\Users\\n.Belousov\\Anaconda3\\envs\\ml\\lib\\site-packages\\sklearn\\covariance\\_robust_covariance.py:184: RuntimeWarning: Determinant has increased; this should not happen: log(det) > log(previous_det) (-112.360209573540075 > -114.329386145425218). You may want to try with a higher value of support_fraction (current value: 0.700).\n",
      "  warnings.warn(\n",
      "c:\\Users\\n.Belousov\\Anaconda3\\envs\\ml\\lib\\site-packages\\sklearn\\covariance\\_robust_covariance.py:184: RuntimeWarning: Determinant has increased; this should not happen: log(det) > log(previous_det) (-111.216422041199877 > -112.212251714180653). You may want to try with a higher value of support_fraction (current value: 0.700).\n",
      "  warnings.warn(\n",
      "c:\\Users\\n.Belousov\\Anaconda3\\envs\\ml\\lib\\site-packages\\sklearn\\covariance\\_robust_covariance.py:184: RuntimeWarning: Determinant has increased; this should not happen: log(det) > log(previous_det) (-113.508659429791109 > -113.637653133237436). You may want to try with a higher value of support_fraction (current value: 0.700).\n",
      "  warnings.warn(\n",
      "c:\\Users\\n.Belousov\\Anaconda3\\envs\\ml\\lib\\site-packages\\sklearn\\covariance\\_robust_covariance.py:184: RuntimeWarning: Determinant has increased; this should not happen: log(det) > log(previous_det) (-113.793817713963421 > -116.204881982010832). You may want to try with a higher value of support_fraction (current value: 0.700).\n",
      "  warnings.warn(\n",
      "c:\\Users\\n.Belousov\\Anaconda3\\envs\\ml\\lib\\site-packages\\sklearn\\covariance\\_robust_covariance.py:184: RuntimeWarning: Determinant has increased; this should not happen: log(det) > log(previous_det) (-111.610787602886774 > -112.067129631257302). You may want to try with a higher value of support_fraction (current value: 0.700).\n",
      "  warnings.warn(\n",
      "c:\\Users\\n.Belousov\\Anaconda3\\envs\\ml\\lib\\site-packages\\sklearn\\covariance\\_robust_covariance.py:184: RuntimeWarning: Determinant has increased; this should not happen: log(det) > log(previous_det) (-114.707887236934198 > -114.861011332878618). You may want to try with a higher value of support_fraction (current value: 0.700).\n",
      "  warnings.warn(\n",
      "c:\\Users\\n.Belousov\\Anaconda3\\envs\\ml\\lib\\site-packages\\sklearn\\covariance\\_robust_covariance.py:184: RuntimeWarning: Determinant has increased; this should not happen: log(det) > log(previous_det) (-113.367679584523501 > -113.411935534811619). You may want to try with a higher value of support_fraction (current value: 0.700).\n",
      "  warnings.warn(\n",
      "c:\\Users\\n.Belousov\\Anaconda3\\envs\\ml\\lib\\site-packages\\sklearn\\covariance\\_robust_covariance.py:184: RuntimeWarning: Determinant has increased; this should not happen: log(det) > log(previous_det) (-113.879708218993869 > -114.013075824829784). You may want to try with a higher value of support_fraction (current value: 0.700).\n",
      "  warnings.warn(\n",
      "c:\\Users\\n.Belousov\\Anaconda3\\envs\\ml\\lib\\site-packages\\sklearn\\covariance\\_robust_covariance.py:184: RuntimeWarning: Determinant has increased; this should not happen: log(det) > log(previous_det) (-114.402541749327995 > -114.635067705066405). You may want to try with a higher value of support_fraction (current value: 0.700).\n",
      "  warnings.warn(\n",
      "c:\\Users\\n.Belousov\\Anaconda3\\envs\\ml\\lib\\site-packages\\sklearn\\covariance\\_robust_covariance.py:184: RuntimeWarning: Determinant has increased; this should not happen: log(det) > log(previous_det) (-114.061813869615435 > -114.723253028479320). You may want to try with a higher value of support_fraction (current value: 0.700).\n",
      "  warnings.warn(\n",
      "c:\\Users\\n.Belousov\\Anaconda3\\envs\\ml\\lib\\site-packages\\sklearn\\covariance\\_robust_covariance.py:184: RuntimeWarning: Determinant has increased; this should not happen: log(det) > log(previous_det) (-114.502520304351194 > -115.045850573284028). You may want to try with a higher value of support_fraction (current value: 0.700).\n",
      "  warnings.warn(\n",
      "c:\\Users\\n.Belousov\\Anaconda3\\envs\\ml\\lib\\site-packages\\sklearn\\covariance\\_robust_covariance.py:184: RuntimeWarning: Determinant has increased; this should not happen: log(det) > log(previous_det) (-112.590906891663977 > -112.870890991279538). You may want to try with a higher value of support_fraction (current value: 0.700).\n",
      "  warnings.warn(\n",
      "c:\\Users\\n.Belousov\\Anaconda3\\envs\\ml\\lib\\site-packages\\sklearn\\covariance\\_robust_covariance.py:184: RuntimeWarning: Determinant has increased; this should not happen: log(det) > log(previous_det) (-114.437845671325988 > -115.286830467799888). You may want to try with a higher value of support_fraction (current value: 0.700).\n",
      "  warnings.warn(\n",
      "c:\\Users\\n.Belousov\\Anaconda3\\envs\\ml\\lib\\site-packages\\sklearn\\covariance\\_robust_covariance.py:184: RuntimeWarning: Determinant has increased; this should not happen: log(det) > log(previous_det) (-112.925902313241750 > -114.113930270030536). You may want to try with a higher value of support_fraction (current value: 0.700).\n",
      "  warnings.warn(\n",
      "c:\\Users\\n.Belousov\\Anaconda3\\envs\\ml\\lib\\site-packages\\sklearn\\covariance\\_robust_covariance.py:184: RuntimeWarning: Determinant has increased; this should not happen: log(det) > log(previous_det) (-114.127482298158256 > -114.948974677523637). You may want to try with a higher value of support_fraction (current value: 0.700).\n",
      "  warnings.warn(\n",
      "c:\\Users\\n.Belousov\\Anaconda3\\envs\\ml\\lib\\site-packages\\sklearn\\covariance\\_robust_covariance.py:184: RuntimeWarning: Determinant has increased; this should not happen: log(det) > log(previous_det) (-114.489229770878538 > -114.656140690922058). You may want to try with a higher value of support_fraction (current value: 0.700).\n",
      "  warnings.warn(\n",
      "c:\\Users\\n.Belousov\\Anaconda3\\envs\\ml\\lib\\site-packages\\sklearn\\covariance\\_robust_covariance.py:184: RuntimeWarning: Determinant has increased; this should not happen: log(det) > log(previous_det) (-112.798349330288318 > -116.310946650017584). You may want to try with a higher value of support_fraction (current value: 0.700).\n",
      "  warnings.warn(\n",
      "c:\\Users\\n.Belousov\\Anaconda3\\envs\\ml\\lib\\site-packages\\sklearn\\covariance\\_robust_covariance.py:184: RuntimeWarning: Determinant has increased; this should not happen: log(det) > log(previous_det) (-113.289326343341244 > -114.428597898893770). You may want to try with a higher value of support_fraction (current value: 0.700).\n",
      "  warnings.warn(\n",
      "c:\\Users\\n.Belousov\\Anaconda3\\envs\\ml\\lib\\site-packages\\sklearn\\covariance\\_robust_covariance.py:184: RuntimeWarning: Determinant has increased; this should not happen: log(det) > log(previous_det) (-114.467321686498522 > -114.579049676553055). You may want to try with a higher value of support_fraction (current value: 0.700).\n",
      "  warnings.warn(\n",
      "c:\\Users\\n.Belousov\\Anaconda3\\envs\\ml\\lib\\site-packages\\sklearn\\covariance\\_robust_covariance.py:184: RuntimeWarning: Determinant has increased; this should not happen: log(det) > log(previous_det) (-113.765389102921219 > -115.964879301051525). You may want to try with a higher value of support_fraction (current value: 0.700).\n",
      "  warnings.warn(\n",
      "c:\\Users\\n.Belousov\\Anaconda3\\envs\\ml\\lib\\site-packages\\sklearn\\covariance\\_robust_covariance.py:184: RuntimeWarning: Determinant has increased; this should not happen: log(det) > log(previous_det) (-114.002380332769917 > -116.340060532132355). You may want to try with a higher value of support_fraction (current value: 0.700).\n",
      "  warnings.warn(\n",
      "c:\\Users\\n.Belousov\\Anaconda3\\envs\\ml\\lib\\site-packages\\sklearn\\covariance\\_robust_covariance.py:184: RuntimeWarning: Determinant has increased; this should not happen: log(det) > log(previous_det) (-114.440686445663388 > -115.393929048475101). You may want to try with a higher value of support_fraction (current value: 0.700).\n",
      "  warnings.warn(\n",
      "c:\\Users\\n.Belousov\\Anaconda3\\envs\\ml\\lib\\site-packages\\sklearn\\covariance\\_robust_covariance.py:184: RuntimeWarning: Determinant has increased; this should not happen: log(det) > log(previous_det) (-110.537636264773965 > -110.679437495841299). You may want to try with a higher value of support_fraction (current value: 0.700).\n",
      "  warnings.warn(\n",
      "c:\\Users\\n.Belousov\\Anaconda3\\envs\\ml\\lib\\site-packages\\sklearn\\covariance\\_robust_covariance.py:184: RuntimeWarning: Determinant has increased; this should not happen: log(det) > log(previous_det) (-115.023711634753681 > -115.440196776373526). You may want to try with a higher value of support_fraction (current value: 0.700).\n",
      "  warnings.warn(\n",
      "c:\\Users\\n.Belousov\\Anaconda3\\envs\\ml\\lib\\site-packages\\sklearn\\covariance\\_robust_covariance.py:184: RuntimeWarning: Determinant has increased; this should not happen: log(det) > log(previous_det) (-114.129407404160702 > -114.634536428829605). You may want to try with a higher value of support_fraction (current value: 0.700).\n",
      "  warnings.warn(\n",
      "c:\\Users\\n.Belousov\\Anaconda3\\envs\\ml\\lib\\site-packages\\sklearn\\covariance\\_robust_covariance.py:184: RuntimeWarning: Determinant has increased; this should not happen: log(det) > log(previous_det) (-114.655166914308424 > -119.094516643016405). You may want to try with a higher value of support_fraction (current value: 0.700).\n",
      "  warnings.warn(\n",
      "c:\\Users\\n.Belousov\\Anaconda3\\envs\\ml\\lib\\site-packages\\sklearn\\covariance\\_robust_covariance.py:184: RuntimeWarning: Determinant has increased; this should not happen: log(det) > log(previous_det) (-114.943923062020261 > -115.837207721653641). You may want to try with a higher value of support_fraction (current value: 0.700).\n",
      "  warnings.warn(\n",
      "c:\\Users\\n.Belousov\\Anaconda3\\envs\\ml\\lib\\site-packages\\sklearn\\covariance\\_robust_covariance.py:184: RuntimeWarning: Determinant has increased; this should not happen: log(det) > log(previous_det) (-114.692110701504902 > -115.211956677897334). You may want to try with a higher value of support_fraction (current value: 0.700).\n",
      "  warnings.warn(\n",
      "c:\\Users\\n.Belousov\\Anaconda3\\envs\\ml\\lib\\site-packages\\sklearn\\covariance\\_robust_covariance.py:184: RuntimeWarning: Determinant has increased; this should not happen: log(det) > log(previous_det) (-114.778749036518590 > -115.077022805329094). You may want to try with a higher value of support_fraction (current value: 0.700).\n",
      "  warnings.warn(\n",
      "c:\\Users\\n.Belousov\\Anaconda3\\envs\\ml\\lib\\site-packages\\sklearn\\covariance\\_robust_covariance.py:184: RuntimeWarning: Determinant has increased; this should not happen: log(det) > log(previous_det) (-114.372260713058296 > -115.067994274931664). You may want to try with a higher value of support_fraction (current value: 0.700).\n",
      "  warnings.warn(\n",
      "c:\\Users\\n.Belousov\\Anaconda3\\envs\\ml\\lib\\site-packages\\sklearn\\covariance\\_robust_covariance.py:184: RuntimeWarning: Determinant has increased; this should not happen: log(det) > log(previous_det) (-114.465530586991378 > -114.802882239261919). You may want to try with a higher value of support_fraction (current value: 0.700).\n",
      "  warnings.warn(\n",
      "c:\\Users\\n.Belousov\\Anaconda3\\envs\\ml\\lib\\site-packages\\sklearn\\covariance\\_robust_covariance.py:184: RuntimeWarning: Determinant has increased; this should not happen: log(det) > log(previous_det) (-114.828652009859908 > -115.262532253839282). You may want to try with a higher value of support_fraction (current value: 0.700).\n",
      "  warnings.warn(\n",
      "c:\\Users\\n.Belousov\\Anaconda3\\envs\\ml\\lib\\site-packages\\sklearn\\covariance\\_robust_covariance.py:184: RuntimeWarning: Determinant has increased; this should not happen: log(det) > log(previous_det) (-113.120269162700808 > -113.501408284948965). You may want to try with a higher value of support_fraction (current value: 0.700).\n",
      "  warnings.warn(\n",
      "c:\\Users\\n.Belousov\\Anaconda3\\envs\\ml\\lib\\site-packages\\sklearn\\covariance\\_robust_covariance.py:184: RuntimeWarning: Determinant has increased; this should not happen: log(det) > log(previous_det) (-112.314544718224411 > -112.743645392977925). You may want to try with a higher value of support_fraction (current value: 0.700).\n",
      "  warnings.warn(\n",
      "c:\\Users\\n.Belousov\\Anaconda3\\envs\\ml\\lib\\site-packages\\sklearn\\covariance\\_robust_covariance.py:184: RuntimeWarning: Determinant has increased; this should not happen: log(det) > log(previous_det) (-113.651655577913616 > -115.219628818993726). You may want to try with a higher value of support_fraction (current value: 0.700).\n",
      "  warnings.warn(\n",
      "c:\\Users\\n.Belousov\\Anaconda3\\envs\\ml\\lib\\site-packages\\sklearn\\covariance\\_robust_covariance.py:184: RuntimeWarning: Determinant has increased; this should not happen: log(det) > log(previous_det) (-113.404715538376692 > -113.424597489869811). You may want to try with a higher value of support_fraction (current value: 0.700).\n",
      "  warnings.warn(\n",
      "c:\\Users\\n.Belousov\\Anaconda3\\envs\\ml\\lib\\site-packages\\sklearn\\covariance\\_robust_covariance.py:184: RuntimeWarning: Determinant has increased; this should not happen: log(det) > log(previous_det) (-114.588524111758090 > -114.653654839334337). You may want to try with a higher value of support_fraction (current value: 0.700).\n",
      "  warnings.warn(\n",
      "c:\\Users\\n.Belousov\\Anaconda3\\envs\\ml\\lib\\site-packages\\sklearn\\covariance\\_robust_covariance.py:184: RuntimeWarning: Determinant has increased; this should not happen: log(det) > log(previous_det) (-113.826388207851110 > -113.937893719696063). You may want to try with a higher value of support_fraction (current value: 0.700).\n",
      "  warnings.warn(\n",
      "c:\\Users\\n.Belousov\\Anaconda3\\envs\\ml\\lib\\site-packages\\sklearn\\covariance\\_robust_covariance.py:184: RuntimeWarning: Determinant has increased; this should not happen: log(det) > log(previous_det) (-114.535775384912853 > -114.718253623314865). You may want to try with a higher value of support_fraction (current value: 0.700).\n",
      "  warnings.warn(\n",
      "c:\\Users\\n.Belousov\\Anaconda3\\envs\\ml\\lib\\site-packages\\sklearn\\covariance\\_robust_covariance.py:184: RuntimeWarning: Determinant has increased; this should not happen: log(det) > log(previous_det) (-113.907729426767403 > -114.257023935186140). You may want to try with a higher value of support_fraction (current value: 0.700).\n",
      "  warnings.warn(\n",
      "c:\\Users\\n.Belousov\\Anaconda3\\envs\\ml\\lib\\site-packages\\sklearn\\covariance\\_robust_covariance.py:184: RuntimeWarning: Determinant has increased; this should not happen: log(det) > log(previous_det) (-111.530063454515258 > -111.719919600348959). You may want to try with a higher value of support_fraction (current value: 0.700).\n",
      "  warnings.warn(\n",
      "c:\\Users\\n.Belousov\\Anaconda3\\envs\\ml\\lib\\site-packages\\sklearn\\covariance\\_robust_covariance.py:184: RuntimeWarning: Determinant has increased; this should not happen: log(det) > log(previous_det) (-113.664762430773962 > -115.245504059468956). You may want to try with a higher value of support_fraction (current value: 0.700).\n",
      "  warnings.warn(\n",
      "c:\\Users\\n.Belousov\\Anaconda3\\envs\\ml\\lib\\site-packages\\sklearn\\covariance\\_robust_covariance.py:184: RuntimeWarning: Determinant has increased; this should not happen: log(det) > log(previous_det) (-114.796208662311457 > -117.343397733438152). You may want to try with a higher value of support_fraction (current value: 0.700).\n",
      "  warnings.warn(\n",
      "c:\\Users\\n.Belousov\\Anaconda3\\envs\\ml\\lib\\site-packages\\sklearn\\covariance\\_robust_covariance.py:184: RuntimeWarning: Determinant has increased; this should not happen: log(det) > log(previous_det) (-111.132839271035550 > -111.713829256800153). You may want to try with a higher value of support_fraction (current value: 0.700).\n",
      "  warnings.warn(\n",
      "c:\\Users\\n.Belousov\\Anaconda3\\envs\\ml\\lib\\site-packages\\sklearn\\covariance\\_robust_covariance.py:184: RuntimeWarning: Determinant has increased; this should not happen: log(det) > log(previous_det) (-113.363602139611075 > -115.412431419466358). You may want to try with a higher value of support_fraction (current value: 0.700).\n",
      "  warnings.warn(\n",
      "c:\\Users\\n.Belousov\\Anaconda3\\envs\\ml\\lib\\site-packages\\sklearn\\covariance\\_robust_covariance.py:184: RuntimeWarning: Determinant has increased; this should not happen: log(det) > log(previous_det) (-114.346810633712977 > -115.504256147177898). You may want to try with a higher value of support_fraction (current value: 0.700).\n",
      "  warnings.warn(\n",
      "c:\\Users\\n.Belousov\\Anaconda3\\envs\\ml\\lib\\site-packages\\sklearn\\covariance\\_robust_covariance.py:184: RuntimeWarning: Determinant has increased; this should not happen: log(det) > log(previous_det) (-114.264102269758979 > -114.636517672271196). You may want to try with a higher value of support_fraction (current value: 0.700).\n",
      "  warnings.warn(\n",
      "c:\\Users\\n.Belousov\\Anaconda3\\envs\\ml\\lib\\site-packages\\sklearn\\covariance\\_robust_covariance.py:184: RuntimeWarning: Determinant has increased; this should not happen: log(det) > log(previous_det) (-114.482392117342627 > -115.230972380205927). You may want to try with a higher value of support_fraction (current value: 0.700).\n",
      "  warnings.warn(\n",
      "c:\\Users\\n.Belousov\\Anaconda3\\envs\\ml\\lib\\site-packages\\sklearn\\covariance\\_robust_covariance.py:184: RuntimeWarning: Determinant has increased; this should not happen: log(det) > log(previous_det) (-114.738651677189367 > -115.940318377924712). You may want to try with a higher value of support_fraction (current value: 0.700).\n",
      "  warnings.warn(\n",
      "c:\\Users\\n.Belousov\\Anaconda3\\envs\\ml\\lib\\site-packages\\sklearn\\covariance\\_robust_covariance.py:184: RuntimeWarning: Determinant has increased; this should not happen: log(det) > log(previous_det) (-114.400789484896791 > -114.759046817325100). You may want to try with a higher value of support_fraction (current value: 0.700).\n",
      "  warnings.warn(\n",
      "c:\\Users\\n.Belousov\\Anaconda3\\envs\\ml\\lib\\site-packages\\sklearn\\covariance\\_robust_covariance.py:184: RuntimeWarning: Determinant has increased; this should not happen: log(det) > log(previous_det) (-114.249829839110021 > -115.202973150259496). You may want to try with a higher value of support_fraction (current value: 0.700).\n",
      "  warnings.warn(\n",
      "c:\\Users\\n.Belousov\\Anaconda3\\envs\\ml\\lib\\site-packages\\sklearn\\covariance\\_robust_covariance.py:184: RuntimeWarning: Determinant has increased; this should not happen: log(det) > log(previous_det) (-115.621887976998394 > -116.172243430058771). You may want to try with a higher value of support_fraction (current value: 0.700).\n",
      "  warnings.warn(\n",
      "c:\\Users\\n.Belousov\\Anaconda3\\envs\\ml\\lib\\site-packages\\sklearn\\covariance\\_robust_covariance.py:184: RuntimeWarning: Determinant has increased; this should not happen: log(det) > log(previous_det) (-113.717080373991848 > -114.496821327202198). You may want to try with a higher value of support_fraction (current value: 0.700).\n",
      "  warnings.warn(\n",
      "c:\\Users\\n.Belousov\\Anaconda3\\envs\\ml\\lib\\site-packages\\sklearn\\covariance\\_robust_covariance.py:184: RuntimeWarning: Determinant has increased; this should not happen: log(det) > log(previous_det) (-112.687840891688353 > -112.877119762277019). You may want to try with a higher value of support_fraction (current value: 0.700).\n",
      "  warnings.warn(\n",
      "c:\\Users\\n.Belousov\\Anaconda3\\envs\\ml\\lib\\site-packages\\sklearn\\covariance\\_robust_covariance.py:184: RuntimeWarning: Determinant has increased; this should not happen: log(det) > log(previous_det) (-114.718595455625163 > -118.426562823074477). You may want to try with a higher value of support_fraction (current value: 0.700).\n",
      "  warnings.warn(\n",
      "c:\\Users\\n.Belousov\\Anaconda3\\envs\\ml\\lib\\site-packages\\sklearn\\covariance\\_robust_covariance.py:184: RuntimeWarning: Determinant has increased; this should not happen: log(det) > log(previous_det) (-113.406900459022197 > -114.005806540775538). You may want to try with a higher value of support_fraction (current value: 0.700).\n",
      "  warnings.warn(\n",
      "c:\\Users\\n.Belousov\\Anaconda3\\envs\\ml\\lib\\site-packages\\sklearn\\covariance\\_robust_covariance.py:184: RuntimeWarning: Determinant has increased; this should not happen: log(det) > log(previous_det) (-114.627139160637327 > -116.033098452752895). You may want to try with a higher value of support_fraction (current value: 0.700).\n",
      "  warnings.warn(\n",
      "c:\\Users\\n.Belousov\\Anaconda3\\envs\\ml\\lib\\site-packages\\sklearn\\covariance\\_robust_covariance.py:184: RuntimeWarning: Determinant has increased; this should not happen: log(det) > log(previous_det) (-111.692134365984245 > -115.709886997730365). You may want to try with a higher value of support_fraction (current value: 0.700).\n",
      "  warnings.warn(\n",
      "c:\\Users\\n.Belousov\\Anaconda3\\envs\\ml\\lib\\site-packages\\sklearn\\covariance\\_robust_covariance.py:184: RuntimeWarning: Determinant has increased; this should not happen: log(det) > log(previous_det) (-113.436048306255572 > -115.249956200141611). You may want to try with a higher value of support_fraction (current value: 0.700).\n",
      "  warnings.warn(\n",
      "c:\\Users\\n.Belousov\\Anaconda3\\envs\\ml\\lib\\site-packages\\sklearn\\covariance\\_robust_covariance.py:184: RuntimeWarning: Determinant has increased; this should not happen: log(det) > log(previous_det) (-114.846011052539808 > -115.578415552790162). You may want to try with a higher value of support_fraction (current value: 0.700).\n",
      "  warnings.warn(\n",
      "c:\\Users\\n.Belousov\\Anaconda3\\envs\\ml\\lib\\site-packages\\sklearn\\covariance\\_robust_covariance.py:184: RuntimeWarning: Determinant has increased; this should not happen: log(det) > log(previous_det) (-115.533964676835794 > -118.081267198966785). You may want to try with a higher value of support_fraction (current value: 0.700).\n",
      "  warnings.warn(\n",
      "c:\\Users\\n.Belousov\\Anaconda3\\envs\\ml\\lib\\site-packages\\sklearn\\covariance\\_robust_covariance.py:184: RuntimeWarning: Determinant has increased; this should not happen: log(det) > log(previous_det) (-114.003257828577034 > -114.817410674609533). You may want to try with a higher value of support_fraction (current value: 0.700).\n",
      "  warnings.warn(\n",
      "c:\\Users\\n.Belousov\\Anaconda3\\envs\\ml\\lib\\site-packages\\sklearn\\covariance\\_robust_covariance.py:184: RuntimeWarning: Determinant has increased; this should not happen: log(det) > log(previous_det) (-114.225078394806445 > -114.611697977589657). You may want to try with a higher value of support_fraction (current value: 0.700).\n",
      "  warnings.warn(\n",
      "c:\\Users\\n.Belousov\\Anaconda3\\envs\\ml\\lib\\site-packages\\sklearn\\covariance\\_robust_covariance.py:184: RuntimeWarning: Determinant has increased; this should not happen: log(det) > log(previous_det) (-114.443779714185737 > -115.055841794323470). You may want to try with a higher value of support_fraction (current value: 0.700).\n",
      "  warnings.warn(\n",
      "c:\\Users\\n.Belousov\\Anaconda3\\envs\\ml\\lib\\site-packages\\sklearn\\covariance\\_robust_covariance.py:184: RuntimeWarning: Determinant has increased; this should not happen: log(det) > log(previous_det) (-113.652180218671518 > -114.974534302202315). You may want to try with a higher value of support_fraction (current value: 0.700).\n",
      "  warnings.warn(\n",
      "c:\\Users\\n.Belousov\\Anaconda3\\envs\\ml\\lib\\site-packages\\sklearn\\covariance\\_robust_covariance.py:184: RuntimeWarning: Determinant has increased; this should not happen: log(det) > log(previous_det) (-113.938237279662303 > -113.955570700176850). You may want to try with a higher value of support_fraction (current value: 0.700).\n",
      "  warnings.warn(\n",
      "c:\\Users\\n.Belousov\\Anaconda3\\envs\\ml\\lib\\site-packages\\sklearn\\covariance\\_robust_covariance.py:184: RuntimeWarning: Determinant has increased; this should not happen: log(det) > log(previous_det) (-113.772693569042204 > -114.182902591264366). You may want to try with a higher value of support_fraction (current value: 0.700).\n",
      "  warnings.warn(\n",
      "c:\\Users\\n.Belousov\\Anaconda3\\envs\\ml\\lib\\site-packages\\sklearn\\covariance\\_robust_covariance.py:184: RuntimeWarning: Determinant has increased; this should not happen: log(det) > log(previous_det) (-114.589605172218597 > -114.755156822535128). You may want to try with a higher value of support_fraction (current value: 0.700).\n",
      "  warnings.warn(\n",
      "c:\\Users\\n.Belousov\\Anaconda3\\envs\\ml\\lib\\site-packages\\sklearn\\covariance\\_robust_covariance.py:184: RuntimeWarning: Determinant has increased; this should not happen: log(det) > log(previous_det) (-114.026856802327202 > -116.583159373262944). You may want to try with a higher value of support_fraction (current value: 0.700).\n",
      "  warnings.warn(\n",
      "c:\\Users\\n.Belousov\\Anaconda3\\envs\\ml\\lib\\site-packages\\sklearn\\covariance\\_robust_covariance.py:184: RuntimeWarning: Determinant has increased; this should not happen: log(det) > log(previous_det) (-115.325407241700120 > -116.375939228271392). You may want to try with a higher value of support_fraction (current value: 0.700).\n",
      "  warnings.warn(\n",
      "c:\\Users\\n.Belousov\\Anaconda3\\envs\\ml\\lib\\site-packages\\sklearn\\covariance\\_robust_covariance.py:184: RuntimeWarning: Determinant has increased; this should not happen: log(det) > log(previous_det) (-114.740285689910763 > -115.032502958728585). You may want to try with a higher value of support_fraction (current value: 0.700).\n",
      "  warnings.warn(\n",
      "c:\\Users\\n.Belousov\\Anaconda3\\envs\\ml\\lib\\site-packages\\sklearn\\covariance\\_robust_covariance.py:184: RuntimeWarning: Determinant has increased; this should not happen: log(det) > log(previous_det) (-113.219464369570332 > -114.006855296934148). You may want to try with a higher value of support_fraction (current value: 0.700).\n",
      "  warnings.warn(\n",
      "c:\\Users\\n.Belousov\\Anaconda3\\envs\\ml\\lib\\site-packages\\sklearn\\covariance\\_robust_covariance.py:184: RuntimeWarning: Determinant has increased; this should not happen: log(det) > log(previous_det) (-113.191569138174501 > -113.239949786697707). You may want to try with a higher value of support_fraction (current value: 0.700).\n",
      "  warnings.warn(\n",
      "c:\\Users\\n.Belousov\\Anaconda3\\envs\\ml\\lib\\site-packages\\sklearn\\covariance\\_robust_covariance.py:184: RuntimeWarning: Determinant has increased; this should not happen: log(det) > log(previous_det) (-113.467851509944367 > -113.868208279947183). You may want to try with a higher value of support_fraction (current value: 0.700).\n",
      "  warnings.warn(\n",
      "c:\\Users\\n.Belousov\\Anaconda3\\envs\\ml\\lib\\site-packages\\sklearn\\covariance\\_robust_covariance.py:184: RuntimeWarning: Determinant has increased; this should not happen: log(det) > log(previous_det) (-113.368075630310102 > -114.252352958615205). You may want to try with a higher value of support_fraction (current value: 0.700).\n",
      "  warnings.warn(\n",
      "c:\\Users\\n.Belousov\\Anaconda3\\envs\\ml\\lib\\site-packages\\sklearn\\covariance\\_robust_covariance.py:184: RuntimeWarning: Determinant has increased; this should not happen: log(det) > log(previous_det) (-112.484992993644454 > -114.723924442158250). You may want to try with a higher value of support_fraction (current value: 0.700).\n",
      "  warnings.warn(\n",
      "c:\\Users\\n.Belousov\\Anaconda3\\envs\\ml\\lib\\site-packages\\sklearn\\covariance\\_robust_covariance.py:184: RuntimeWarning: Determinant has increased; this should not happen: log(det) > log(previous_det) (-113.273876708368803 > -114.669179055558914). You may want to try with a higher value of support_fraction (current value: 0.700).\n",
      "  warnings.warn(\n",
      "c:\\Users\\n.Belousov\\Anaconda3\\envs\\ml\\lib\\site-packages\\sklearn\\covariance\\_robust_covariance.py:184: RuntimeWarning: Determinant has increased; this should not happen: log(det) > log(previous_det) (-113.055860872034501 > -113.620236976891277). You may want to try with a higher value of support_fraction (current value: 0.700).\n",
      "  warnings.warn(\n",
      "c:\\Users\\n.Belousov\\Anaconda3\\envs\\ml\\lib\\site-packages\\sklearn\\covariance\\_robust_covariance.py:184: RuntimeWarning: Determinant has increased; this should not happen: log(det) > log(previous_det) (-113.466072331581046 > -115.432979326118826). You may want to try with a higher value of support_fraction (current value: 0.700).\n",
      "  warnings.warn(\n",
      "c:\\Users\\n.Belousov\\Anaconda3\\envs\\ml\\lib\\site-packages\\sklearn\\covariance\\_robust_covariance.py:184: RuntimeWarning: Determinant has increased; this should not happen: log(det) > log(previous_det) (-113.510010638027083 > -114.436438742518703). You may want to try with a higher value of support_fraction (current value: 0.700).\n",
      "  warnings.warn(\n",
      "c:\\Users\\n.Belousov\\Anaconda3\\envs\\ml\\lib\\site-packages\\sklearn\\covariance\\_robust_covariance.py:184: RuntimeWarning: Determinant has increased; this should not happen: log(det) > log(previous_det) (-114.815432635907953 > -115.416024982928434). You may want to try with a higher value of support_fraction (current value: 0.700).\n",
      "  warnings.warn(\n",
      "c:\\Users\\n.Belousov\\Anaconda3\\envs\\ml\\lib\\site-packages\\sklearn\\covariance\\_robust_covariance.py:184: RuntimeWarning: Determinant has increased; this should not happen: log(det) > log(previous_det) (-114.462629433380613 > -115.644148154393335). You may want to try with a higher value of support_fraction (current value: 0.700).\n",
      "  warnings.warn(\n",
      "c:\\Users\\n.Belousov\\Anaconda3\\envs\\ml\\lib\\site-packages\\sklearn\\covariance\\_robust_covariance.py:184: RuntimeWarning: Determinant has increased; this should not happen: log(det) > log(previous_det) (-114.257186416559350 > -114.724932409699221). You may want to try with a higher value of support_fraction (current value: 0.700).\n",
      "  warnings.warn(\n",
      "c:\\Users\\n.Belousov\\Anaconda3\\envs\\ml\\lib\\site-packages\\sklearn\\covariance\\_robust_covariance.py:184: RuntimeWarning: Determinant has increased; this should not happen: log(det) > log(previous_det) (-115.174469064716632 > -118.959633446775570). You may want to try with a higher value of support_fraction (current value: 0.700).\n",
      "  warnings.warn(\n",
      "c:\\Users\\n.Belousov\\Anaconda3\\envs\\ml\\lib\\site-packages\\sklearn\\covariance\\_robust_covariance.py:184: RuntimeWarning: Determinant has increased; this should not happen: log(det) > log(previous_det) (-114.252703822881742 > -115.897652167693892). You may want to try with a higher value of support_fraction (current value: 0.700).\n",
      "  warnings.warn(\n",
      "c:\\Users\\n.Belousov\\Anaconda3\\envs\\ml\\lib\\site-packages\\sklearn\\covariance\\_robust_covariance.py:184: RuntimeWarning: Determinant has increased; this should not happen: log(det) > log(previous_det) (-114.853303632065348 > -118.259099827505665). You may want to try with a higher value of support_fraction (current value: 0.700).\n",
      "  warnings.warn(\n",
      "c:\\Users\\n.Belousov\\Anaconda3\\envs\\ml\\lib\\site-packages\\sklearn\\covariance\\_robust_covariance.py:184: RuntimeWarning: Determinant has increased; this should not happen: log(det) > log(previous_det) (-114.926566315521711 > -115.034797885947683). You may want to try with a higher value of support_fraction (current value: 0.700).\n",
      "  warnings.warn(\n",
      "c:\\Users\\n.Belousov\\Anaconda3\\envs\\ml\\lib\\site-packages\\sklearn\\covariance\\_robust_covariance.py:184: RuntimeWarning: Determinant has increased; this should not happen: log(det) > log(previous_det) (-113.626612802545864 > -114.308321964552022). You may want to try with a higher value of support_fraction (current value: 0.700).\n",
      "  warnings.warn(\n",
      "c:\\Users\\n.Belousov\\Anaconda3\\envs\\ml\\lib\\site-packages\\sklearn\\covariance\\_robust_covariance.py:184: RuntimeWarning: Determinant has increased; this should not happen: log(det) > log(previous_det) (-115.265039229834983 > -119.526006389383014). You may want to try with a higher value of support_fraction (current value: 0.700).\n",
      "  warnings.warn(\n",
      "c:\\Users\\n.Belousov\\Anaconda3\\envs\\ml\\lib\\site-packages\\sklearn\\covariance\\_robust_covariance.py:184: RuntimeWarning: Determinant has increased; this should not happen: log(det) > log(previous_det) (-114.122277480434263 > -114.819666621852633). You may want to try with a higher value of support_fraction (current value: 0.700).\n",
      "  warnings.warn(\n",
      "c:\\Users\\n.Belousov\\Anaconda3\\envs\\ml\\lib\\site-packages\\sklearn\\covariance\\_robust_covariance.py:184: RuntimeWarning: Determinant has increased; this should not happen: log(det) > log(previous_det) (-114.644465085657018 > -114.819758831873571). You may want to try with a higher value of support_fraction (current value: 0.700).\n",
      "  warnings.warn(\n",
      "c:\\Users\\n.Belousov\\Anaconda3\\envs\\ml\\lib\\site-packages\\sklearn\\covariance\\_robust_covariance.py:184: RuntimeWarning: Determinant has increased; this should not happen: log(det) > log(previous_det) (-114.753318836244219 > -114.867210624499847). You may want to try with a higher value of support_fraction (current value: 0.700).\n",
      "  warnings.warn(\n",
      "c:\\Users\\n.Belousov\\Anaconda3\\envs\\ml\\lib\\site-packages\\sklearn\\covariance\\_robust_covariance.py:184: RuntimeWarning: Determinant has increased; this should not happen: log(det) > log(previous_det) (-114.066610565993088 > -115.498571391292955). You may want to try with a higher value of support_fraction (current value: 0.700).\n",
      "  warnings.warn(\n",
      "c:\\Users\\n.Belousov\\Anaconda3\\envs\\ml\\lib\\site-packages\\sklearn\\covariance\\_robust_covariance.py:184: RuntimeWarning: Determinant has increased; this should not happen: log(det) > log(previous_det) (-110.788796443415606 > -111.827539798199140). You may want to try with a higher value of support_fraction (current value: 0.700).\n",
      "  warnings.warn(\n",
      "c:\\Users\\n.Belousov\\Anaconda3\\envs\\ml\\lib\\site-packages\\sklearn\\covariance\\_robust_covariance.py:184: RuntimeWarning: Determinant has increased; this should not happen: log(det) > log(previous_det) (-114.618779921431255 > -115.087032689671602). You may want to try with a higher value of support_fraction (current value: 0.700).\n",
      "  warnings.warn(\n",
      "c:\\Users\\n.Belousov\\Anaconda3\\envs\\ml\\lib\\site-packages\\sklearn\\covariance\\_robust_covariance.py:184: RuntimeWarning: Determinant has increased; this should not happen: log(det) > log(previous_det) (-114.001599035585272 > -116.047859848905802). You may want to try with a higher value of support_fraction (current value: 0.700).\n",
      "  warnings.warn(\n",
      "c:\\Users\\n.Belousov\\Anaconda3\\envs\\ml\\lib\\site-packages\\sklearn\\covariance\\_robust_covariance.py:184: RuntimeWarning: Determinant has increased; this should not happen: log(det) > log(previous_det) (-114.967180094593644 > -115.017894020323538). You may want to try with a higher value of support_fraction (current value: 0.700).\n",
      "  warnings.warn(\n",
      "c:\\Users\\n.Belousov\\Anaconda3\\envs\\ml\\lib\\site-packages\\sklearn\\covariance\\_robust_covariance.py:184: RuntimeWarning: Determinant has increased; this should not happen: log(det) > log(previous_det) (-113.340344746240746 > -113.445724724910306). You may want to try with a higher value of support_fraction (current value: 0.700).\n",
      "  warnings.warn(\n",
      "c:\\Users\\n.Belousov\\Anaconda3\\envs\\ml\\lib\\site-packages\\sklearn\\covariance\\_robust_covariance.py:184: RuntimeWarning: Determinant has increased; this should not happen: log(det) > log(previous_det) (-113.667546447382179 > -114.638968036420891). You may want to try with a higher value of support_fraction (current value: 0.700).\n",
      "  warnings.warn(\n",
      "c:\\Users\\n.Belousov\\Anaconda3\\envs\\ml\\lib\\site-packages\\sklearn\\covariance\\_robust_covariance.py:184: RuntimeWarning: Determinant has increased; this should not happen: log(det) > log(previous_det) (-113.128563493366002 > -116.607481420419603). You may want to try with a higher value of support_fraction (current value: 0.700).\n",
      "  warnings.warn(\n",
      "c:\\Users\\n.Belousov\\Anaconda3\\envs\\ml\\lib\\site-packages\\sklearn\\covariance\\_robust_covariance.py:184: RuntimeWarning: Determinant has increased; this should not happen: log(det) > log(previous_det) (-113.581667862470624 > -113.819175998906488). You may want to try with a higher value of support_fraction (current value: 0.700).\n",
      "  warnings.warn(\n",
      "c:\\Users\\n.Belousov\\Anaconda3\\envs\\ml\\lib\\site-packages\\sklearn\\covariance\\_robust_covariance.py:184: RuntimeWarning: Determinant has increased; this should not happen: log(det) > log(previous_det) (-115.242521635437200 > -116.553911064965902). You may want to try with a higher value of support_fraction (current value: 0.700).\n",
      "  warnings.warn(\n",
      "c:\\Users\\n.Belousov\\Anaconda3\\envs\\ml\\lib\\site-packages\\sklearn\\covariance\\_robust_covariance.py:184: RuntimeWarning: Determinant has increased; this should not happen: log(det) > log(previous_det) (-114.152981304040253 > -116.136680541258542). You may want to try with a higher value of support_fraction (current value: 0.700).\n",
      "  warnings.warn(\n",
      "c:\\Users\\n.Belousov\\Anaconda3\\envs\\ml\\lib\\site-packages\\sklearn\\covariance\\_robust_covariance.py:184: RuntimeWarning: Determinant has increased; this should not happen: log(det) > log(previous_det) (-113.221261889704209 > -113.694840505723505). You may want to try with a higher value of support_fraction (current value: 0.700).\n",
      "  warnings.warn(\n",
      "c:\\Users\\n.Belousov\\Anaconda3\\envs\\ml\\lib\\site-packages\\sklearn\\covariance\\_robust_covariance.py:184: RuntimeWarning: Determinant has increased; this should not happen: log(det) > log(previous_det) (-113.199076839599115 > -113.458333328401608). You may want to try with a higher value of support_fraction (current value: 0.700).\n",
      "  warnings.warn(\n",
      "c:\\Users\\n.Belousov\\Anaconda3\\envs\\ml\\lib\\site-packages\\sklearn\\covariance\\_robust_covariance.py:184: RuntimeWarning: Determinant has increased; this should not happen: log(det) > log(previous_det) (-113.891296184074619 > -115.199293357240990). You may want to try with a higher value of support_fraction (current value: 0.700).\n",
      "  warnings.warn(\n",
      "c:\\Users\\n.Belousov\\Anaconda3\\envs\\ml\\lib\\site-packages\\sklearn\\covariance\\_robust_covariance.py:184: RuntimeWarning: Determinant has increased; this should not happen: log(det) > log(previous_det) (-115.027963735736947 > -117.279826686007922). You may want to try with a higher value of support_fraction (current value: 0.700).\n",
      "  warnings.warn(\n",
      "c:\\Users\\n.Belousov\\Anaconda3\\envs\\ml\\lib\\site-packages\\sklearn\\covariance\\_robust_covariance.py:184: RuntimeWarning: Determinant has increased; this should not happen: log(det) > log(previous_det) (-113.120116397685536 > -113.653921401781815). You may want to try with a higher value of support_fraction (current value: 0.700).\n",
      "  warnings.warn(\n",
      "c:\\Users\\n.Belousov\\Anaconda3\\envs\\ml\\lib\\site-packages\\sklearn\\covariance\\_robust_covariance.py:184: RuntimeWarning: Determinant has increased; this should not happen: log(det) > log(previous_det) (-114.894696036315821 > -116.463101485466865). You may want to try with a higher value of support_fraction (current value: 0.700).\n",
      "  warnings.warn(\n",
      "c:\\Users\\n.Belousov\\Anaconda3\\envs\\ml\\lib\\site-packages\\sklearn\\covariance\\_robust_covariance.py:184: RuntimeWarning: Determinant has increased; this should not happen: log(det) > log(previous_det) (-111.908331196878677 > -112.072358281543515). You may want to try with a higher value of support_fraction (current value: 0.700).\n",
      "  warnings.warn(\n",
      "c:\\Users\\n.Belousov\\Anaconda3\\envs\\ml\\lib\\site-packages\\sklearn\\covariance\\_robust_covariance.py:184: RuntimeWarning: Determinant has increased; this should not happen: log(det) > log(previous_det) (-113.776933882819449 > -116.609196136228519). You may want to try with a higher value of support_fraction (current value: 0.700).\n",
      "  warnings.warn(\n",
      "c:\\Users\\n.Belousov\\Anaconda3\\envs\\ml\\lib\\site-packages\\sklearn\\covariance\\_robust_covariance.py:184: RuntimeWarning: Determinant has increased; this should not happen: log(det) > log(previous_det) (-113.494067670796397 > -114.096645218195320). You may want to try with a higher value of support_fraction (current value: 0.700).\n",
      "  warnings.warn(\n",
      "c:\\Users\\n.Belousov\\Anaconda3\\envs\\ml\\lib\\site-packages\\sklearn\\covariance\\_robust_covariance.py:184: RuntimeWarning: Determinant has increased; this should not happen: log(det) > log(previous_det) (-111.634640897130453 > -114.021891722924465). You may want to try with a higher value of support_fraction (current value: 0.700).\n",
      "  warnings.warn(\n",
      "c:\\Users\\n.Belousov\\Anaconda3\\envs\\ml\\lib\\site-packages\\sklearn\\covariance\\_robust_covariance.py:184: RuntimeWarning: Determinant has increased; this should not happen: log(det) > log(previous_det) (-114.560749258761433 > -115.548893025605722). You may want to try with a higher value of support_fraction (current value: 0.700).\n",
      "  warnings.warn(\n",
      "c:\\Users\\n.Belousov\\Anaconda3\\envs\\ml\\lib\\site-packages\\sklearn\\covariance\\_robust_covariance.py:184: RuntimeWarning: Determinant has increased; this should not happen: log(det) > log(previous_det) (-111.759024009701676 > -112.066863916143305). You may want to try with a higher value of support_fraction (current value: 0.700).\n",
      "  warnings.warn(\n",
      "c:\\Users\\n.Belousov\\Anaconda3\\envs\\ml\\lib\\site-packages\\sklearn\\covariance\\_robust_covariance.py:184: RuntimeWarning: Determinant has increased; this should not happen: log(det) > log(previous_det) (-113.878728375334873 > -115.046791581520466). You may want to try with a higher value of support_fraction (current value: 0.700).\n",
      "  warnings.warn(\n",
      "c:\\Users\\n.Belousov\\Anaconda3\\envs\\ml\\lib\\site-packages\\sklearn\\covariance\\_robust_covariance.py:184: RuntimeWarning: Determinant has increased; this should not happen: log(det) > log(previous_det) (-114.404294961605288 > -115.447579263525000). You may want to try with a higher value of support_fraction (current value: 0.700).\n",
      "  warnings.warn(\n",
      "c:\\Users\\n.Belousov\\Anaconda3\\envs\\ml\\lib\\site-packages\\sklearn\\covariance\\_robust_covariance.py:184: RuntimeWarning: Determinant has increased; this should not happen: log(det) > log(previous_det) (-114.674062394560394 > -115.105789351300473). You may want to try with a higher value of support_fraction (current value: 0.700).\n",
      "  warnings.warn(\n",
      "c:\\Users\\n.Belousov\\Anaconda3\\envs\\ml\\lib\\site-packages\\sklearn\\covariance\\_robust_covariance.py:184: RuntimeWarning: Determinant has increased; this should not happen: log(det) > log(previous_det) (-113.487067184692251 > -116.014238094034170). You may want to try with a higher value of support_fraction (current value: 0.700).\n",
      "  warnings.warn(\n",
      "c:\\Users\\n.Belousov\\Anaconda3\\envs\\ml\\lib\\site-packages\\sklearn\\covariance\\_robust_covariance.py:184: RuntimeWarning: Determinant has increased; this should not happen: log(det) > log(previous_det) (-114.052455019647127 > -117.125023710820088). You may want to try with a higher value of support_fraction (current value: 0.700).\n",
      "  warnings.warn(\n",
      "c:\\Users\\n.Belousov\\Anaconda3\\envs\\ml\\lib\\site-packages\\sklearn\\covariance\\_robust_covariance.py:184: RuntimeWarning: Determinant has increased; this should not happen: log(det) > log(previous_det) (-112.134858540317566 > -112.916325322655737). You may want to try with a higher value of support_fraction (current value: 0.700).\n",
      "  warnings.warn(\n",
      "c:\\Users\\n.Belousov\\Anaconda3\\envs\\ml\\lib\\site-packages\\sklearn\\covariance\\_robust_covariance.py:184: RuntimeWarning: Determinant has increased; this should not happen: log(det) > log(previous_det) (-114.075692646877670 > -114.103681059244536). You may want to try with a higher value of support_fraction (current value: 0.700).\n",
      "  warnings.warn(\n",
      "c:\\Users\\n.Belousov\\Anaconda3\\envs\\ml\\lib\\site-packages\\sklearn\\covariance\\_robust_covariance.py:184: RuntimeWarning: Determinant has increased; this should not happen: log(det) > log(previous_det) (-112.948729036852370 > -113.261519150883274). You may want to try with a higher value of support_fraction (current value: 0.700).\n",
      "  warnings.warn(\n",
      "c:\\Users\\n.Belousov\\Anaconda3\\envs\\ml\\lib\\site-packages\\sklearn\\covariance\\_robust_covariance.py:184: RuntimeWarning: Determinant has increased; this should not happen: log(det) > log(previous_det) (-114.587973411399489 > -115.070117743115304). You may want to try with a higher value of support_fraction (current value: 0.700).\n",
      "  warnings.warn(\n",
      "c:\\Users\\n.Belousov\\Anaconda3\\envs\\ml\\lib\\site-packages\\sklearn\\covariance\\_robust_covariance.py:184: RuntimeWarning: Determinant has increased; this should not happen: log(det) > log(previous_det) (-113.854282103634176 > -114.534121081974234). You may want to try with a higher value of support_fraction (current value: 0.700).\n",
      "  warnings.warn(\n",
      "c:\\Users\\n.Belousov\\Anaconda3\\envs\\ml\\lib\\site-packages\\sklearn\\covariance\\_robust_covariance.py:184: RuntimeWarning: Determinant has increased; this should not happen: log(det) > log(previous_det) (-114.318006151054618 > -116.105436012648397). You may want to try with a higher value of support_fraction (current value: 0.700).\n",
      "  warnings.warn(\n",
      "c:\\Users\\n.Belousov\\Anaconda3\\envs\\ml\\lib\\site-packages\\sklearn\\covariance\\_robust_covariance.py:184: RuntimeWarning: Determinant has increased; this should not happen: log(det) > log(previous_det) (-113.571141761588080 > -114.338873442845170). You may want to try with a higher value of support_fraction (current value: 0.700).\n",
      "  warnings.warn(\n",
      "c:\\Users\\n.Belousov\\Anaconda3\\envs\\ml\\lib\\site-packages\\sklearn\\covariance\\_robust_covariance.py:184: RuntimeWarning: Determinant has increased; this should not happen: log(det) > log(previous_det) (-111.157608081025785 > -112.477186589723900). You may want to try with a higher value of support_fraction (current value: 0.700).\n",
      "  warnings.warn(\n",
      "c:\\Users\\n.Belousov\\Anaconda3\\envs\\ml\\lib\\site-packages\\sklearn\\covariance\\_robust_covariance.py:184: RuntimeWarning: Determinant has increased; this should not happen: log(det) > log(previous_det) (-111.157608081025785 > -113.970727306852297). You may want to try with a higher value of support_fraction (current value: 0.700).\n",
      "  warnings.warn(\n",
      "c:\\Users\\n.Belousov\\Anaconda3\\envs\\ml\\lib\\site-packages\\sklearn\\covariance\\_robust_covariance.py:184: RuntimeWarning: Determinant has increased; this should not happen: log(det) > log(previous_det) (-113.660614752402765 > -117.463022268654527). You may want to try with a higher value of support_fraction (current value: 0.700).\n",
      "  warnings.warn(\n",
      "c:\\Users\\n.Belousov\\Anaconda3\\envs\\ml\\lib\\site-packages\\sklearn\\covariance\\_robust_covariance.py:184: RuntimeWarning: Determinant has increased; this should not happen: log(det) > log(previous_det) (-114.331079588851850 > -114.653967764667996). You may want to try with a higher value of support_fraction (current value: 0.700).\n",
      "  warnings.warn(\n",
      "c:\\Users\\n.Belousov\\Anaconda3\\envs\\ml\\lib\\site-packages\\sklearn\\covariance\\_robust_covariance.py:184: RuntimeWarning: Determinant has increased; this should not happen: log(det) > log(previous_det) (-114.678855197895089 > -115.048141119289980). You may want to try with a higher value of support_fraction (current value: 0.700).\n",
      "  warnings.warn(\n",
      "c:\\Users\\n.Belousov\\Anaconda3\\envs\\ml\\lib\\site-packages\\sklearn\\covariance\\_robust_covariance.py:184: RuntimeWarning: Determinant has increased; this should not happen: log(det) > log(previous_det) (-114.774682431700285 > -116.016399597943945). You may want to try with a higher value of support_fraction (current value: 0.700).\n",
      "  warnings.warn(\n",
      "c:\\Users\\n.Belousov\\Anaconda3\\envs\\ml\\lib\\site-packages\\sklearn\\covariance\\_robust_covariance.py:184: RuntimeWarning: Determinant has increased; this should not happen: log(det) > log(previous_det) (-114.290390083125857 > -115.902638698456926). You may want to try with a higher value of support_fraction (current value: 0.700).\n",
      "  warnings.warn(\n",
      "c:\\Users\\n.Belousov\\Anaconda3\\envs\\ml\\lib\\site-packages\\sklearn\\covariance\\_robust_covariance.py:184: RuntimeWarning: Determinant has increased; this should not happen: log(det) > log(previous_det) (-114.651393564906584 > -118.299954697027374). You may want to try with a higher value of support_fraction (current value: 0.700).\n",
      "  warnings.warn(\n",
      "c:\\Users\\n.Belousov\\Anaconda3\\envs\\ml\\lib\\site-packages\\sklearn\\covariance\\_robust_covariance.py:184: RuntimeWarning: Determinant has increased; this should not happen: log(det) > log(previous_det) (-111.534207102553552 > -111.679475569200605). You may want to try with a higher value of support_fraction (current value: 0.700).\n",
      "  warnings.warn(\n",
      "c:\\Users\\n.Belousov\\Anaconda3\\envs\\ml\\lib\\site-packages\\sklearn\\covariance\\_robust_covariance.py:184: RuntimeWarning: Determinant has increased; this should not happen: log(det) > log(previous_det) (-114.880376146183707 > -115.798167333694025). You may want to try with a higher value of support_fraction (current value: 0.700).\n",
      "  warnings.warn(\n",
      "c:\\Users\\n.Belousov\\Anaconda3\\envs\\ml\\lib\\site-packages\\sklearn\\covariance\\_robust_covariance.py:184: RuntimeWarning: Determinant has increased; this should not happen: log(det) > log(previous_det) (-111.279273546335602 > -115.009345271037731). You may want to try with a higher value of support_fraction (current value: 0.700).\n",
      "  warnings.warn(\n",
      "c:\\Users\\n.Belousov\\Anaconda3\\envs\\ml\\lib\\site-packages\\sklearn\\covariance\\_robust_covariance.py:184: RuntimeWarning: Determinant has increased; this should not happen: log(det) > log(previous_det) (-114.859175468870276 > -115.079528092587267). You may want to try with a higher value of support_fraction (current value: 0.700).\n",
      "  warnings.warn(\n",
      "c:\\Users\\n.Belousov\\Anaconda3\\envs\\ml\\lib\\site-packages\\sklearn\\covariance\\_robust_covariance.py:184: RuntimeWarning: Determinant has increased; this should not happen: log(det) > log(previous_det) (-113.854405631611968 > -114.947305261732197). You may want to try with a higher value of support_fraction (current value: 0.700).\n",
      "  warnings.warn(\n",
      "c:\\Users\\n.Belousov\\Anaconda3\\envs\\ml\\lib\\site-packages\\sklearn\\covariance\\_robust_covariance.py:184: RuntimeWarning: Determinant has increased; this should not happen: log(det) > log(previous_det) (-114.294564301794779 > -115.536456194622232). You may want to try with a higher value of support_fraction (current value: 0.700).\n",
      "  warnings.warn(\n",
      "c:\\Users\\n.Belousov\\Anaconda3\\envs\\ml\\lib\\site-packages\\sklearn\\covariance\\_robust_covariance.py:184: RuntimeWarning: Determinant has increased; this should not happen: log(det) > log(previous_det) (-113.439025735016301 > -114.462787180960845). You may want to try with a higher value of support_fraction (current value: 0.700).\n",
      "  warnings.warn(\n",
      "c:\\Users\\n.Belousov\\Anaconda3\\envs\\ml\\lib\\site-packages\\sklearn\\covariance\\_robust_covariance.py:184: RuntimeWarning: Determinant has increased; this should not happen: log(det) > log(previous_det) (-114.032958201886998 > -114.791681138174852). You may want to try with a higher value of support_fraction (current value: 0.700).\n",
      "  warnings.warn(\n",
      "c:\\Users\\n.Belousov\\Anaconda3\\envs\\ml\\lib\\site-packages\\sklearn\\covariance\\_robust_covariance.py:184: RuntimeWarning: Determinant has increased; this should not happen: log(det) > log(previous_det) (-115.029560843111256 > -116.541533243040647). You may want to try with a higher value of support_fraction (current value: 0.700).\n",
      "  warnings.warn(\n",
      "c:\\Users\\n.Belousov\\Anaconda3\\envs\\ml\\lib\\site-packages\\sklearn\\covariance\\_robust_covariance.py:184: RuntimeWarning: Determinant has increased; this should not happen: log(det) > log(previous_det) (-113.649420964031734 > -116.627784927402743). You may want to try with a higher value of support_fraction (current value: 0.700).\n",
      "  warnings.warn(\n",
      "c:\\Users\\n.Belousov\\Anaconda3\\envs\\ml\\lib\\site-packages\\sklearn\\covariance\\_robust_covariance.py:184: RuntimeWarning: Determinant has increased; this should not happen: log(det) > log(previous_det) (-115.111864557556970 > -117.868138529913168). You may want to try with a higher value of support_fraction (current value: 0.700).\n",
      "  warnings.warn(\n",
      "c:\\Users\\n.Belousov\\Anaconda3\\envs\\ml\\lib\\site-packages\\sklearn\\covariance\\_robust_covariance.py:184: RuntimeWarning: Determinant has increased; this should not happen: log(det) > log(previous_det) (-111.296284045812968 > -116.250516891783221). You may want to try with a higher value of support_fraction (current value: 0.700).\n",
      "  warnings.warn(\n",
      "c:\\Users\\n.Belousov\\Anaconda3\\envs\\ml\\lib\\site-packages\\sklearn\\covariance\\_robust_covariance.py:184: RuntimeWarning: Determinant has increased; this should not happen: log(det) > log(previous_det) (-111.066986653488073 > -111.692134365984245). You may want to try with a higher value of support_fraction (current value: 0.700).\n",
      "  warnings.warn(\n",
      "c:\\Users\\n.Belousov\\Anaconda3\\envs\\ml\\lib\\site-packages\\sklearn\\covariance\\_robust_covariance.py:184: RuntimeWarning: Determinant has increased; this should not happen: log(det) > log(previous_det) (-113.714378390271150 > -114.721562997400895). You may want to try with a higher value of support_fraction (current value: 0.700).\n",
      "  warnings.warn(\n",
      "c:\\Users\\n.Belousov\\Anaconda3\\envs\\ml\\lib\\site-packages\\sklearn\\covariance\\_robust_covariance.py:184: RuntimeWarning: Determinant has increased; this should not happen: log(det) > log(previous_det) (-113.918875633822864 > -114.571361733349022). You may want to try with a higher value of support_fraction (current value: 0.700).\n",
      "  warnings.warn(\n",
      "c:\\Users\\n.Belousov\\Anaconda3\\envs\\ml\\lib\\site-packages\\sklearn\\covariance\\_robust_covariance.py:184: RuntimeWarning: Determinant has increased; this should not happen: log(det) > log(previous_det) (-111.614943633422868 > -112.129748255150929). You may want to try with a higher value of support_fraction (current value: 0.700).\n",
      "  warnings.warn(\n",
      "c:\\Users\\n.Belousov\\Anaconda3\\envs\\ml\\lib\\site-packages\\sklearn\\covariance\\_robust_covariance.py:184: RuntimeWarning: Determinant has increased; this should not happen: log(det) > log(previous_det) (-112.810998427614678 > -113.653527277955433). You may want to try with a higher value of support_fraction (current value: 0.700).\n",
      "  warnings.warn(\n",
      "c:\\Users\\n.Belousov\\Anaconda3\\envs\\ml\\lib\\site-packages\\sklearn\\covariance\\_robust_covariance.py:184: RuntimeWarning: Determinant has increased; this should not happen: log(det) > log(previous_det) (-111.635032097470543 > -112.448197050558434). You may want to try with a higher value of support_fraction (current value: 0.700).\n",
      "  warnings.warn(\n",
      "c:\\Users\\n.Belousov\\Anaconda3\\envs\\ml\\lib\\site-packages\\sklearn\\covariance\\_robust_covariance.py:184: RuntimeWarning: Determinant has increased; this should not happen: log(det) > log(previous_det) (-111.926908994583698 > -116.008257026367147). You may want to try with a higher value of support_fraction (current value: 0.700).\n",
      "  warnings.warn(\n",
      "c:\\Users\\n.Belousov\\Anaconda3\\envs\\ml\\lib\\site-packages\\sklearn\\covariance\\_robust_covariance.py:184: RuntimeWarning: Determinant has increased; this should not happen: log(det) > log(previous_det) (-110.684162876901382 > -112.176235651173400). You may want to try with a higher value of support_fraction (current value: 0.700).\n",
      "  warnings.warn(\n",
      "c:\\Users\\n.Belousov\\Anaconda3\\envs\\ml\\lib\\site-packages\\sklearn\\covariance\\_robust_covariance.py:184: RuntimeWarning: Determinant has increased; this should not happen: log(det) > log(previous_det) (-115.119342978448714 > -115.325896514511058). You may want to try with a higher value of support_fraction (current value: 0.700).\n",
      "  warnings.warn(\n",
      "c:\\Users\\n.Belousov\\Anaconda3\\envs\\ml\\lib\\site-packages\\sklearn\\covariance\\_robust_covariance.py:184: RuntimeWarning: Determinant has increased; this should not happen: log(det) > log(previous_det) (-114.346428281846926 > -114.350574251415964). You may want to try with a higher value of support_fraction (current value: 0.700).\n",
      "  warnings.warn(\n",
      "c:\\Users\\n.Belousov\\Anaconda3\\envs\\ml\\lib\\site-packages\\sklearn\\covariance\\_robust_covariance.py:184: RuntimeWarning: Determinant has increased; this should not happen: log(det) > log(previous_det) (-113.226952406795590 > -117.217901855523564). You may want to try with a higher value of support_fraction (current value: 0.700).\n",
      "  warnings.warn(\n",
      "c:\\Users\\n.Belousov\\Anaconda3\\envs\\ml\\lib\\site-packages\\sklearn\\covariance\\_robust_covariance.py:184: RuntimeWarning: Determinant has increased; this should not happen: log(det) > log(previous_det) (-113.638639744397707 > -114.640848675095128). You may want to try with a higher value of support_fraction (current value: 0.700).\n",
      "  warnings.warn(\n",
      "c:\\Users\\n.Belousov\\Anaconda3\\envs\\ml\\lib\\site-packages\\sklearn\\covariance\\_robust_covariance.py:184: RuntimeWarning: Determinant has increased; this should not happen: log(det) > log(previous_det) (-114.320278790608924 > -116.223306871975851). You may want to try with a higher value of support_fraction (current value: 0.700).\n",
      "  warnings.warn(\n",
      "c:\\Users\\n.Belousov\\Anaconda3\\envs\\ml\\lib\\site-packages\\sklearn\\covariance\\_robust_covariance.py:184: RuntimeWarning: Determinant has increased; this should not happen: log(det) > log(previous_det) (-113.607929354153896 > -115.451804132808860). You may want to try with a higher value of support_fraction (current value: 0.700).\n",
      "  warnings.warn(\n",
      "c:\\Users\\n.Belousov\\Anaconda3\\envs\\ml\\lib\\site-packages\\sklearn\\covariance\\_robust_covariance.py:184: RuntimeWarning: Determinant has increased; this should not happen: log(det) > log(previous_det) (-113.423765556016519 > -113.671032925614512). You may want to try with a higher value of support_fraction (current value: 0.700).\n",
      "  warnings.warn(\n",
      "c:\\Users\\n.Belousov\\Anaconda3\\envs\\ml\\lib\\site-packages\\sklearn\\covariance\\_robust_covariance.py:184: RuntimeWarning: Determinant has increased; this should not happen: log(det) > log(previous_det) (-114.163740134186071 > -114.308797812769015). You may want to try with a higher value of support_fraction (current value: 0.700).\n",
      "  warnings.warn(\n",
      "c:\\Users\\n.Belousov\\Anaconda3\\envs\\ml\\lib\\site-packages\\sklearn\\covariance\\_robust_covariance.py:184: RuntimeWarning: Determinant has increased; this should not happen: log(det) > log(previous_det) (-113.335983686433323 > -113.977914171087761). You may want to try with a higher value of support_fraction (current value: 0.700).\n",
      "  warnings.warn(\n",
      "c:\\Users\\n.Belousov\\Anaconda3\\envs\\ml\\lib\\site-packages\\sklearn\\covariance\\_robust_covariance.py:184: RuntimeWarning: Determinant has increased; this should not happen: log(det) > log(previous_det) (-112.923383233613450 > -113.414399509106474). You may want to try with a higher value of support_fraction (current value: 0.700).\n",
      "  warnings.warn(\n",
      "c:\\Users\\n.Belousov\\Anaconda3\\envs\\ml\\lib\\site-packages\\sklearn\\covariance\\_robust_covariance.py:184: RuntimeWarning: Determinant has increased; this should not happen: log(det) > log(previous_det) (-113.996724544571578 > -114.473297087365125). You may want to try with a higher value of support_fraction (current value: 0.700).\n",
      "  warnings.warn(\n",
      "c:\\Users\\n.Belousov\\Anaconda3\\envs\\ml\\lib\\site-packages\\sklearn\\covariance\\_robust_covariance.py:184: RuntimeWarning: Determinant has increased; this should not happen: log(det) > log(previous_det) (-114.027614563091504 > -115.354121033007985). You may want to try with a higher value of support_fraction (current value: 0.700).\n",
      "  warnings.warn(\n",
      "c:\\Users\\n.Belousov\\Anaconda3\\envs\\ml\\lib\\site-packages\\sklearn\\covariance\\_robust_covariance.py:184: RuntimeWarning: Determinant has increased; this should not happen: log(det) > log(previous_det) (-112.407967774912990 > -112.729931231784121). You may want to try with a higher value of support_fraction (current value: 0.700).\n",
      "  warnings.warn(\n",
      "c:\\Users\\n.Belousov\\Anaconda3\\envs\\ml\\lib\\site-packages\\sklearn\\covariance\\_robust_covariance.py:184: RuntimeWarning: Determinant has increased; this should not happen: log(det) > log(previous_det) (-111.710599741993292 > -113.423240908831232). You may want to try with a higher value of support_fraction (current value: 0.700).\n",
      "  warnings.warn(\n",
      "c:\\Users\\n.Belousov\\Anaconda3\\envs\\ml\\lib\\site-packages\\sklearn\\covariance\\_robust_covariance.py:184: RuntimeWarning: Determinant has increased; this should not happen: log(det) > log(previous_det) (-111.539086732252585 > -111.966613302076311). You may want to try with a higher value of support_fraction (current value: 0.700).\n",
      "  warnings.warn(\n",
      "c:\\Users\\n.Belousov\\Anaconda3\\envs\\ml\\lib\\site-packages\\sklearn\\covariance\\_robust_covariance.py:184: RuntimeWarning: Determinant has increased; this should not happen: log(det) > log(previous_det) (-111.391945900055063 > -114.470032414690422). You may want to try with a higher value of support_fraction (current value: 0.700).\n",
      "  warnings.warn(\n",
      "c:\\Users\\n.Belousov\\Anaconda3\\envs\\ml\\lib\\site-packages\\sklearn\\covariance\\_robust_covariance.py:184: RuntimeWarning: Determinant has increased; this should not happen: log(det) > log(previous_det) (-113.719901795546917 > -114.667693180244683). You may want to try with a higher value of support_fraction (current value: 0.700).\n",
      "  warnings.warn(\n",
      "c:\\Users\\n.Belousov\\Anaconda3\\envs\\ml\\lib\\site-packages\\sklearn\\covariance\\_robust_covariance.py:184: RuntimeWarning: Determinant has increased; this should not happen: log(det) > log(previous_det) (-115.465387833479241 > -115.780488297261925). You may want to try with a higher value of support_fraction (current value: 0.700).\n",
      "  warnings.warn(\n",
      "c:\\Users\\n.Belousov\\Anaconda3\\envs\\ml\\lib\\site-packages\\sklearn\\covariance\\_robust_covariance.py:184: RuntimeWarning: Determinant has increased; this should not happen: log(det) > log(previous_det) (-113.940539902983389 > -116.211888688264665). You may want to try with a higher value of support_fraction (current value: 0.700).\n",
      "  warnings.warn(\n",
      "c:\\Users\\n.Belousov\\Anaconda3\\envs\\ml\\lib\\site-packages\\sklearn\\covariance\\_robust_covariance.py:184: RuntimeWarning: Determinant has increased; this should not happen: log(det) > log(previous_det) (-111.028130446064935 > -111.328383452215647). You may want to try with a higher value of support_fraction (current value: 0.700).\n",
      "  warnings.warn(\n",
      "c:\\Users\\n.Belousov\\Anaconda3\\envs\\ml\\lib\\site-packages\\sklearn\\covariance\\_robust_covariance.py:184: RuntimeWarning: Determinant has increased; this should not happen: log(det) > log(previous_det) (-114.324749682261583 > -114.654868241989377). You may want to try with a higher value of support_fraction (current value: 0.700).\n",
      "  warnings.warn(\n",
      "c:\\Users\\n.Belousov\\Anaconda3\\envs\\ml\\lib\\site-packages\\sklearn\\covariance\\_robust_covariance.py:184: RuntimeWarning: Determinant has increased; this should not happen: log(det) > log(previous_det) (-114.279152383364803 > -114.569813967443068). You may want to try with a higher value of support_fraction (current value: 0.700).\n",
      "  warnings.warn(\n",
      "c:\\Users\\n.Belousov\\Anaconda3\\envs\\ml\\lib\\site-packages\\sklearn\\covariance\\_robust_covariance.py:184: RuntimeWarning: Determinant has increased; this should not happen: log(det) > log(previous_det) (-113.960344263465458 > -116.673574669399969). You may want to try with a higher value of support_fraction (current value: 0.700).\n",
      "  warnings.warn(\n",
      "c:\\Users\\n.Belousov\\Anaconda3\\envs\\ml\\lib\\site-packages\\sklearn\\covariance\\_robust_covariance.py:184: RuntimeWarning: Determinant has increased; this should not happen: log(det) > log(previous_det) (-113.960122510438680 > -113.974529640556725). You may want to try with a higher value of support_fraction (current value: 0.700).\n",
      "  warnings.warn(\n",
      "c:\\Users\\n.Belousov\\Anaconda3\\envs\\ml\\lib\\site-packages\\sklearn\\covariance\\_robust_covariance.py:184: RuntimeWarning: Determinant has increased; this should not happen: log(det) > log(previous_det) (-114.651393564906584 > -115.671420385927007). You may want to try with a higher value of support_fraction (current value: 0.700).\n",
      "  warnings.warn(\n",
      "c:\\Users\\n.Belousov\\Anaconda3\\envs\\ml\\lib\\site-packages\\sklearn\\covariance\\_robust_covariance.py:184: RuntimeWarning: Determinant has increased; this should not happen: log(det) > log(previous_det) (-114.453336350465150 > -114.491061827372718). You may want to try with a higher value of support_fraction (current value: 0.700).\n",
      "  warnings.warn(\n",
      "c:\\Users\\n.Belousov\\Anaconda3\\envs\\ml\\lib\\site-packages\\sklearn\\covariance\\_robust_covariance.py:184: RuntimeWarning: Determinant has increased; this should not happen: log(det) > log(previous_det) (-111.570187808729273 > -112.444327721674526). You may want to try with a higher value of support_fraction (current value: 0.700).\n",
      "  warnings.warn(\n",
      "c:\\Users\\n.Belousov\\Anaconda3\\envs\\ml\\lib\\site-packages\\sklearn\\covariance\\_robust_covariance.py:184: RuntimeWarning: Determinant has increased; this should not happen: log(det) > log(previous_det) (-115.279580715645466 > -115.466584481188193). You may want to try with a higher value of support_fraction (current value: 0.700).\n",
      "  warnings.warn(\n",
      "c:\\Users\\n.Belousov\\Anaconda3\\envs\\ml\\lib\\site-packages\\sklearn\\covariance\\_robust_covariance.py:184: RuntimeWarning: Determinant has increased; this should not happen: log(det) > log(previous_det) (-113.687380066771581 > -114.427466404775743). You may want to try with a higher value of support_fraction (current value: 0.700).\n",
      "  warnings.warn(\n",
      "c:\\Users\\n.Belousov\\Anaconda3\\envs\\ml\\lib\\site-packages\\sklearn\\covariance\\_robust_covariance.py:184: RuntimeWarning: Determinant has increased; this should not happen: log(det) > log(previous_det) (-114.347214180477820 > -115.349385554196473). You may want to try with a higher value of support_fraction (current value: 0.700).\n",
      "  warnings.warn(\n",
      "c:\\Users\\n.Belousov\\Anaconda3\\envs\\ml\\lib\\site-packages\\sklearn\\covariance\\_robust_covariance.py:184: RuntimeWarning: Determinant has increased; this should not happen: log(det) > log(previous_det) (-114.101698609693102 > -115.424587517381838). You may want to try with a higher value of support_fraction (current value: 0.700).\n",
      "  warnings.warn(\n",
      "c:\\Users\\n.Belousov\\Anaconda3\\envs\\ml\\lib\\site-packages\\sklearn\\covariance\\_robust_covariance.py:184: RuntimeWarning: Determinant has increased; this should not happen: log(det) > log(previous_det) (-114.624962317264561 > -115.782072198375488). You may want to try with a higher value of support_fraction (current value: 0.700).\n",
      "  warnings.warn(\n",
      "c:\\Users\\n.Belousov\\Anaconda3\\envs\\ml\\lib\\site-packages\\sklearn\\covariance\\_robust_covariance.py:184: RuntimeWarning: Determinant has increased; this should not happen: log(det) > log(previous_det) (-114.882598934695650 > -115.177278304763263). You may want to try with a higher value of support_fraction (current value: 0.700).\n",
      "  warnings.warn(\n",
      "c:\\Users\\n.Belousov\\Anaconda3\\envs\\ml\\lib\\site-packages\\sklearn\\covariance\\_robust_covariance.py:184: RuntimeWarning: Determinant has increased; this should not happen: log(det) > log(previous_det) (-113.423559609827620 > -117.705177065209440). You may want to try with a higher value of support_fraction (current value: 0.700).\n",
      "  warnings.warn(\n",
      "c:\\Users\\n.Belousov\\Anaconda3\\envs\\ml\\lib\\site-packages\\sklearn\\covariance\\_robust_covariance.py:184: RuntimeWarning: Determinant has increased; this should not happen: log(det) > log(previous_det) (-115.658844949818388 > -116.372212023758323). You may want to try with a higher value of support_fraction (current value: 0.700).\n",
      "  warnings.warn(\n",
      "c:\\Users\\n.Belousov\\Anaconda3\\envs\\ml\\lib\\site-packages\\sklearn\\covariance\\_robust_covariance.py:184: RuntimeWarning: Determinant has increased; this should not happen: log(det) > log(previous_det) (-111.606421421664436 > -113.627244494893930). You may want to try with a higher value of support_fraction (current value: 0.700).\n",
      "  warnings.warn(\n",
      "c:\\Users\\n.Belousov\\Anaconda3\\envs\\ml\\lib\\site-packages\\sklearn\\covariance\\_robust_covariance.py:184: RuntimeWarning: Determinant has increased; this should not happen: log(det) > log(previous_det) (-113.594413951037509 > -115.403855151353469). You may want to try with a higher value of support_fraction (current value: 0.700).\n",
      "  warnings.warn(\n",
      "c:\\Users\\n.Belousov\\Anaconda3\\envs\\ml\\lib\\site-packages\\sklearn\\covariance\\_robust_covariance.py:184: RuntimeWarning: Determinant has increased; this should not happen: log(det) > log(previous_det) (-113.995344533358164 > -118.367488744127826). You may want to try with a higher value of support_fraction (current value: 0.700).\n",
      "  warnings.warn(\n",
      "c:\\Users\\n.Belousov\\Anaconda3\\envs\\ml\\lib\\site-packages\\sklearn\\covariance\\_robust_covariance.py:184: RuntimeWarning: Determinant has increased; this should not happen: log(det) > log(previous_det) (-114.179871953361584 > -120.434602412214005). You may want to try with a higher value of support_fraction (current value: 0.700).\n",
      "  warnings.warn(\n",
      "c:\\Users\\n.Belousov\\Anaconda3\\envs\\ml\\lib\\site-packages\\sklearn\\covariance\\_robust_covariance.py:184: RuntimeWarning: Determinant has increased; this should not happen: log(det) > log(previous_det) (-115.671321510024896 > -115.688011786963187). You may want to try with a higher value of support_fraction (current value: 0.700).\n",
      "  warnings.warn(\n",
      "c:\\Users\\n.Belousov\\Anaconda3\\envs\\ml\\lib\\site-packages\\sklearn\\covariance\\_robust_covariance.py:184: RuntimeWarning: Determinant has increased; this should not happen: log(det) > log(previous_det) (-114.132291733167051 > -117.099533272685832). You may want to try with a higher value of support_fraction (current value: 0.700).\n",
      "  warnings.warn(\n",
      "c:\\Users\\n.Belousov\\Anaconda3\\envs\\ml\\lib\\site-packages\\sklearn\\covariance\\_robust_covariance.py:184: RuntimeWarning: Determinant has increased; this should not happen: log(det) > log(previous_det) (-111.760613759707482 > -112.278937105025790). You may want to try with a higher value of support_fraction (current value: 0.700).\n",
      "  warnings.warn(\n",
      "c:\\Users\\n.Belousov\\Anaconda3\\envs\\ml\\lib\\site-packages\\sklearn\\covariance\\_robust_covariance.py:184: RuntimeWarning: Determinant has increased; this should not happen: log(det) > log(previous_det) (-110.792317993694709 > -112.658569944825103). You may want to try with a higher value of support_fraction (current value: 0.700).\n",
      "  warnings.warn(\n",
      "c:\\Users\\n.Belousov\\Anaconda3\\envs\\ml\\lib\\site-packages\\sklearn\\covariance\\_robust_covariance.py:184: RuntimeWarning: Determinant has increased; this should not happen: log(det) > log(previous_det) (-111.489871352173239 > -113.000234799526126). You may want to try with a higher value of support_fraction (current value: 0.700).\n",
      "  warnings.warn(\n",
      "c:\\Users\\n.Belousov\\Anaconda3\\envs\\ml\\lib\\site-packages\\sklearn\\covariance\\_robust_covariance.py:184: RuntimeWarning: Determinant has increased; this should not happen: log(det) > log(previous_det) (-114.930613637973437 > -115.532143682463484). You may want to try with a higher value of support_fraction (current value: 0.700).\n",
      "  warnings.warn(\n",
      "c:\\Users\\n.Belousov\\Anaconda3\\envs\\ml\\lib\\site-packages\\sklearn\\covariance\\_robust_covariance.py:184: RuntimeWarning: Determinant has increased; this should not happen: log(det) > log(previous_det) (-114.373229703003872 > -115.946684097943987). You may want to try with a higher value of support_fraction (current value: 0.700).\n",
      "  warnings.warn(\n",
      "c:\\Users\\n.Belousov\\Anaconda3\\envs\\ml\\lib\\site-packages\\sklearn\\covariance\\_robust_covariance.py:184: RuntimeWarning: Determinant has increased; this should not happen: log(det) > log(previous_det) (-114.760636927391602 > -115.233549606565703). You may want to try with a higher value of support_fraction (current value: 0.700).\n",
      "  warnings.warn(\n",
      "c:\\Users\\n.Belousov\\Anaconda3\\envs\\ml\\lib\\site-packages\\sklearn\\covariance\\_robust_covariance.py:184: RuntimeWarning: Determinant has increased; this should not happen: log(det) > log(previous_det) (-113.275915923441687 > -113.425388654533222). You may want to try with a higher value of support_fraction (current value: 0.700).\n",
      "  warnings.warn(\n",
      "c:\\Users\\n.Belousov\\Anaconda3\\envs\\ml\\lib\\site-packages\\sklearn\\covariance\\_robust_covariance.py:184: RuntimeWarning: Determinant has increased; this should not happen: log(det) > log(previous_det) (-113.580327341173771 > -114.257236917619750). You may want to try with a higher value of support_fraction (current value: 0.700).\n",
      "  warnings.warn(\n",
      "c:\\Users\\n.Belousov\\Anaconda3\\envs\\ml\\lib\\site-packages\\sklearn\\covariance\\_robust_covariance.py:184: RuntimeWarning: Determinant has increased; this should not happen: log(det) > log(previous_det) (-114.724827003671024 > -114.771530130895954). You may want to try with a higher value of support_fraction (current value: 0.700).\n",
      "  warnings.warn(\n",
      "c:\\Users\\n.Belousov\\Anaconda3\\envs\\ml\\lib\\site-packages\\sklearn\\covariance\\_robust_covariance.py:184: RuntimeWarning: Determinant has increased; this should not happen: log(det) > log(previous_det) (-113.329107293580691 > -114.945775217224835). You may want to try with a higher value of support_fraction (current value: 0.700).\n",
      "  warnings.warn(\n",
      "c:\\Users\\n.Belousov\\Anaconda3\\envs\\ml\\lib\\site-packages\\sklearn\\covariance\\_robust_covariance.py:184: RuntimeWarning: Determinant has increased; this should not happen: log(det) > log(previous_det) (-113.229034423871369 > -115.910969277629306). You may want to try with a higher value of support_fraction (current value: 0.700).\n",
      "  warnings.warn(\n",
      "c:\\Users\\n.Belousov\\Anaconda3\\envs\\ml\\lib\\site-packages\\sklearn\\covariance\\_robust_covariance.py:184: RuntimeWarning: Determinant has increased; this should not happen: log(det) > log(previous_det) (-112.416678043736397 > -117.262605870355102). You may want to try with a higher value of support_fraction (current value: 0.700).\n",
      "  warnings.warn(\n"
     ]
    }
   ],
   "source": [
    "envelope = EllipticEnvelope(contamination=.01, random_state=random_state)\n",
    "\n",
    "envelope.fit(data_train);"
   ]
  },
  {
   "cell_type": "code",
   "execution_count": 26,
   "metadata": {},
   "outputs": [],
   "source": [
    "train_pred = envelope.predict(data_train)\n",
    "test_pred = envelope.predict(data_test)"
   ]
  },
  {
   "cell_type": "code",
   "execution_count": 27,
   "metadata": {},
   "outputs": [],
   "source": [
    "train_pred = np.clip(train_pred, 0, 1)\n",
    "train_pred = np.where((train_pred == 0) | (train_pred == 1), train_pred^1, train_pred)\n",
    "\n",
    "test_pred = np.clip(test_pred, 0, 1)\n",
    "test_pred = np.where((test_pred == 0) | (test_pred == 1), test_pred^1, test_pred)"
   ]
  },
  {
   "cell_type": "code",
   "execution_count": 28,
   "metadata": {},
   "outputs": [
    {
     "name": "stdout",
     "output_type": "stream",
     "text": [
      "f1 score train - 0.24766180321735876\n",
      "f1 score test - 0.19578313253012045\n"
     ]
    }
   ],
   "source": [
    "print(f'f1 score train - {f1_score(target_train, train_pred)}')\n",
    "print(f'f1 score test - {f1_score(target_test, test_pred)}')"
   ]
  },
  {
   "attachments": {},
   "cell_type": "markdown",
   "metadata": {},
   "source": [
    "Результат даже близко не дотягивает до линейной модели"
   ]
  },
  {
   "attachments": {},
   "cell_type": "markdown",
   "metadata": {},
   "source": [
    "## Isolation Forest"
   ]
  },
  {
   "cell_type": "code",
   "execution_count": 16,
   "metadata": {},
   "outputs": [
    {
     "name": "stderr",
     "output_type": "stream",
     "text": [
      "c:\\Users\\n.Belousov\\Anaconda3\\envs\\ml\\lib\\site-packages\\sklearn\\base.py:439: UserWarning: X does not have valid feature names, but IsolationForest was fitted with feature names\n",
      "  warnings.warn(\n"
     ]
    }
   ],
   "source": [
    "isol_for = IsolationForest(\n",
    "    n_jobs=-1,\n",
    "    contamination=.01,\n",
    "    n_estimators=500,\n",
    "    random_state=random_state\n",
    ")\n",
    "\n",
    "isol_for.fit(data_train);"
   ]
  },
  {
   "cell_type": "code",
   "execution_count": 17,
   "metadata": {},
   "outputs": [],
   "source": [
    "train_pred = isol_for.predict(data_train)\n",
    "test_pred = isol_for.predict(data_test)"
   ]
  },
  {
   "cell_type": "code",
   "execution_count": 18,
   "metadata": {},
   "outputs": [],
   "source": [
    "train_pred = np.clip(train_pred, 0, 1)\n",
    "train_pred = np.where((train_pred == 0) | (train_pred == 1), train_pred^1, train_pred)\n",
    "\n",
    "test_pred = np.clip(test_pred, 0, 1)\n",
    "test_pred = np.where((test_pred == 0) | (test_pred == 1), test_pred^1, test_pred)"
   ]
  },
  {
   "cell_type": "code",
   "execution_count": 19,
   "metadata": {},
   "outputs": [
    {
     "name": "stdout",
     "output_type": "stream",
     "text": [
      "f1 score train - 0.1848110736999626\n",
      "f1 score test - 0.15759312320916904\n"
     ]
    }
   ],
   "source": [
    "print(f'f1 score train - {f1_score(target_train, train_pred)}')\n",
    "print(f'f1 score test - {f1_score(target_test, test_pred)}')"
   ]
  },
  {
   "attachments": {},
   "cell_type": "markdown",
   "metadata": {},
   "source": [
    "Также, результат очень плохой"
   ]
  },
  {
   "attachments": {},
   "cell_type": "markdown",
   "metadata": {},
   "source": [
    "## One-class SVM"
   ]
  },
  {
   "cell_type": "code",
   "execution_count": 5,
   "metadata": {},
   "outputs": [],
   "source": [
    "svm = OneClassSVM(kernel='linear')\n",
    "\n",
    "svm.fit(data_train);"
   ]
  },
  {
   "cell_type": "code",
   "execution_count": null,
   "metadata": {},
   "outputs": [],
   "source": [
    "train_pred = svm.predict(data_train)\n",
    "test_pred = svm.predict(data_test)"
   ]
  },
  {
   "cell_type": "code",
   "execution_count": null,
   "metadata": {},
   "outputs": [],
   "source": [
    "train_pred = np.clip(train_pred, 0, 1)\n",
    "train_pred = np.where((train_pred == 0) | (train_pred == 1), train_pred^1, train_pred)\n",
    "\n",
    "test_pred = np.clip(test_pred, 0, 1)\n",
    "test_pred = np.where((test_pred == 0) | (test_pred == 1), test_pred^1, test_pred)"
   ]
  },
  {
   "cell_type": "code",
   "execution_count": null,
   "metadata": {},
   "outputs": [
    {
     "name": "stdout",
     "output_type": "stream",
     "text": [
      "f1 score train - 0.18930041152263372\n",
      "f1 score test - 0.19402985074626866\n"
     ]
    }
   ],
   "source": [
    "print(f'f1 score train - {f1_score(target_train, train_pred)}')\n",
    "print(f'f1 score test - {f1_score(target_test, test_pred)}')"
   ]
  },
  {
   "attachments": {},
   "cell_type": "markdown",
   "metadata": {},
   "source": [
    "## DBSCAN"
   ]
  },
  {
   "cell_type": "code",
   "execution_count": 52,
   "metadata": {},
   "outputs": [],
   "source": [
    "dbscan = DBSCAN(eps=.99, min_samples=2, n_jobs=-1)\n",
    "\n",
    "train_pred = dbscan.fit_predict(data_train);"
   ]
  },
  {
   "cell_type": "code",
   "execution_count": 53,
   "metadata": {},
   "outputs": [
    {
     "data": {
      "text/plain": [
       "array([-1,  0, -1, ..., 37, -1, -1], dtype=int64)"
      ]
     },
     "execution_count": 53,
     "metadata": {},
     "output_type": "execute_result"
    }
   ],
   "source": [
    "train_pred"
   ]
  },
  {
   "cell_type": "code",
   "execution_count": 54,
   "metadata": {},
   "outputs": [
    {
     "data": {
      "text/plain": [
       "(array([  -1,    0,    1, ..., 9836, 9837, 9838], dtype=int64),\n",
       " array([106062,   1697,      4, ...,      2,      2,      2], dtype=int64))"
      ]
     },
     "execution_count": 54,
     "metadata": {},
     "output_type": "execute_result"
    }
   ],
   "source": [
    "np.unique(train_pred, return_counts=True)"
   ]
  },
  {
   "attachments": {},
   "cell_type": "markdown",
   "metadata": {},
   "source": [
    "Методы кластеризации очень плохо справляются, помечая более 50 процентов данных как шум."
   ]
  },
  {
   "attachments": {},
   "cell_type": "markdown",
   "metadata": {},
   "source": [
    "## Random Forest"
   ]
  },
  {
   "cell_type": "code",
   "execution_count": 55,
   "metadata": {},
   "outputs": [
    {
     "name": "stdout",
     "output_type": "stream",
     "text": [
      "Fitting 5 folds for each of 4 candidates, totalling 20 fits\n"
     ]
    }
   ],
   "source": [
    "ran_for = RandomForestClassifier(n_jobs=-1, random_state=random_state)\n",
    "\n",
    "params = {\n",
    "    'max_depth': [None, 5, 7, 10]\n",
    "}\n",
    "\n",
    "skf.get_n_splits(data_train, target_train)\n",
    "\n",
    "gs = GridSearchCV(ran_for, params, scoring='f1', cv=skf, n_jobs=-1, verbose=5)\n",
    "\n",
    "gs.fit(data_train, target_train);"
   ]
  },
  {
   "cell_type": "code",
   "execution_count": 56,
   "metadata": {},
   "outputs": [
    {
     "data": {
      "text/plain": [
       "({'max_depth': None}, 0.8701841190074735)"
      ]
     },
     "execution_count": 56,
     "metadata": {},
     "output_type": "execute_result"
    }
   ],
   "source": [
    "gs.best_params_, gs.best_score_"
   ]
  },
  {
   "cell_type": "code",
   "execution_count": 58,
   "metadata": {},
   "outputs": [
    {
     "name": "stdout",
     "output_type": "stream",
     "text": [
      "f1 score train - 1.0\n",
      "f1 score test - 0.7283950617283952\n",
      "rocauc score train - 1.0\n",
      "rocauc score test - 0.9214882017100595\n"
     ]
    }
   ],
   "source": [
    "ran_for = RandomForestClassifier(\n",
    "    n_jobs=-1,\n",
    "    n_estimators=500,\n",
    "    **gs.best_params_,\n",
    "    random_state=random_state\n",
    ")\n",
    "ran_for.fit(data_train, target_train)\n",
    "\n",
    "print_metrics(ran_for, data_train, target_train, data_test, target_test)"
   ]
  },
  {
   "attachments": {},
   "cell_type": "markdown",
   "metadata": {},
   "source": [
    "Bagging показал довольно неплохой результат, но, всё равно, не смог побить линейную модель"
   ]
  },
  {
   "attachments": {},
   "cell_type": "markdown",
   "metadata": {},
   "source": [
    "## Gradient Boosting"
   ]
  },
  {
   "cell_type": "code",
   "execution_count": 62,
   "metadata": {},
   "outputs": [
    {
     "name": "stdout",
     "output_type": "stream",
     "text": [
      "Fitting 3 folds for each of 5 candidates, totalling 15 fits\n"
     ]
    }
   ],
   "source": [
    "xgb = XGBClassifier(random_state=random_state)\n",
    "\n",
    "params = {\n",
    "        'min_child_weight': [1, 5, 10],\n",
    "        'gamma': [0.5, 1, 1.5, 2, 5],\n",
    "        'subsample': [0.6, 0.8, 1.0],\n",
    "        'colsample_bytree': [0.6, 0.8, 1.0],\n",
    "        'max_depth': [3, 4, 5]\n",
    "        }\n",
    "\n",
    "skf.get_n_splits(data_train, target_train)\n",
    "\n",
    "gs = RandomizedSearchCV(xgb,\n",
    "        params,\n",
    "        scoring='f1',\n",
    "        n_iter=10,\n",
    "        cv=skf,\n",
    "        n_jobs=-1,\n",
    "        verbose=3,\n",
    "        random_state=random_state\n",
    ")\n",
    "\n",
    "gs.fit(data_train, target_train);"
   ]
  },
  {
   "cell_type": "code",
   "execution_count": 63,
   "metadata": {},
   "outputs": [
    {
     "data": {
      "text/plain": [
       "({'subsample': 0.8,\n",
       "  'min_child_weight': 10,\n",
       "  'max_depth': 3,\n",
       "  'gamma': 5,\n",
       "  'colsample_bytree': 1.0},\n",
       " 0.8727520219494093)"
      ]
     },
     "execution_count": 63,
     "metadata": {},
     "output_type": "execute_result"
    }
   ],
   "source": [
    "gs.best_params_, gs.best_score_"
   ]
  },
  {
   "cell_type": "code",
   "execution_count": 66,
   "metadata": {},
   "outputs": [
    {
     "name": "stdout",
     "output_type": "stream",
     "text": [
      "f1 score train - 0.908108108108108\n",
      "f1 score test - 0.7393939393939395\n",
      "rocauc score train - 0.9986418785084675\n",
      "rocauc score test - 0.9701118242738852\n"
     ]
    }
   ],
   "source": [
    "xgb = XGBClassifier(\n",
    "    n_jobs=-1,\n",
    "    n_estimators=1000,\n",
    "    learning_rate=.03,\n",
    "    **gs.best_params_,\n",
    "    random_state=random_state\n",
    ")\n",
    "xgb.fit(data_train, target_train)\n",
    "\n",
    "print_metrics(xgb, data_train, target_train, data_test, target_test)"
   ]
  },
  {
   "attachments": {},
   "cell_type": "markdown",
   "metadata": {},
   "source": [
    "Бустинг выглядит более многообещающе"
   ]
  }
 ],
 "metadata": {
  "kernelspec": {
   "display_name": "ml",
   "language": "python",
   "name": "python3"
  },
  "language_info": {
   "codemirror_mode": {
    "name": "ipython",
    "version": 3
   },
   "file_extension": ".py",
   "mimetype": "text/x-python",
   "name": "python",
   "nbconvert_exporter": "python",
   "pygments_lexer": "ipython3",
   "version": "3.10.9"
  },
  "orig_nbformat": 4,
  "vscode": {
   "interpreter": {
    "hash": "014dbf5a6667fb4f7dbad183fa06471f78a3635342ccee8f5056a5fba0875e86"
   }
  }
 },
 "nbformat": 4,
 "nbformat_minor": 2
}
